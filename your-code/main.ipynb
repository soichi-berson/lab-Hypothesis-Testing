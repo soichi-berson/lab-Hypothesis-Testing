{
 "cells": [
  {
   "cell_type": "markdown",
   "metadata": {
    "id": "xjI20x84zSx2"
   },
   "source": [
    "# Before you start:\n",
    "- Read the README.md file\n",
    "- Comment as much as you can and use the resources (README.md file)\n",
    "- Happy learning!"
   ]
  },
  {
   "cell_type": "code",
   "execution_count": 1,
   "metadata": {
    "colab": {
     "base_uri": "https://localhost:8080/"
    },
    "id": "uzAOTQfoz15Q",
    "outputId": "9597f4c2-a277-4c68-a984-a22cd1d353c6"
   },
   "outputs": [],
   "source": [
    "#!pip install -U scipy"
   ]
  },
  {
   "cell_type": "code",
   "execution_count": 13,
   "metadata": {
    "id": "PIKv798RzSx6"
   },
   "outputs": [],
   "source": [
    "# import numpy and pandas\n",
    "import pandas as pd\n",
    "import numpy as np"
   ]
  },
  {
   "cell_type": "markdown",
   "metadata": {
    "id": "GvMX-v1TzSx7"
   },
   "source": [
    "# Challenge 1 - Exploring the Data\n",
    "\n",
    "In this challenge, we will examine all salaries of employees of the San Francisco. We will start by loading the dataset and examining its contents. "
   ]
  },
  {
   "cell_type": "code",
   "execution_count": 14,
   "metadata": {
    "colab": {
     "base_uri": "https://localhost:8080/"
    },
    "id": "jx8dpv-xzSx8",
    "outputId": "c1a35f3c-afb6-4b20-d774-06bbdca465ea"
   },
   "outputs": [
    {
     "name": "stderr",
     "output_type": "stream",
     "text": [
      "/var/folders/b7/77nrfzds2c52n57v0lnp20sr0000gn/T/ipykernel_6904/1020194342.py:2: DtypeWarning: Columns (3,4,5,6,12) have mixed types. Specify dtype option on import or set low_memory=False.\n",
      "  data = pd.read_csv('../data/Salaries.csv')\n"
     ]
    }
   ],
   "source": [
    "# Your code here:\n",
    "data = pd.read_csv('../data/Salaries.csv')\n"
   ]
  },
  {
   "cell_type": "markdown",
   "metadata": {
    "id": "28njElH1zSx9"
   },
   "source": [
    "Examine the `salaries` dataset using the `head` function below."
   ]
  },
  {
   "cell_type": "code",
   "execution_count": 15,
   "metadata": {},
   "outputs": [
    {
     "data": {
      "text/html": [
       "<div>\n",
       "<style scoped>\n",
       "    .dataframe tbody tr th:only-of-type {\n",
       "        vertical-align: middle;\n",
       "    }\n",
       "\n",
       "    .dataframe tbody tr th {\n",
       "        vertical-align: top;\n",
       "    }\n",
       "\n",
       "    .dataframe thead th {\n",
       "        text-align: right;\n",
       "    }\n",
       "</style>\n",
       "<table border=\"1\" class=\"dataframe\">\n",
       "  <thead>\n",
       "    <tr style=\"text-align: right;\">\n",
       "      <th></th>\n",
       "      <th>Id</th>\n",
       "      <th>EmployeeName</th>\n",
       "      <th>JobTitle</th>\n",
       "      <th>BasePay</th>\n",
       "      <th>OvertimePay</th>\n",
       "      <th>OtherPay</th>\n",
       "      <th>Benefits</th>\n",
       "      <th>TotalPay</th>\n",
       "      <th>TotalPayBenefits</th>\n",
       "      <th>Year</th>\n",
       "      <th>Notes</th>\n",
       "      <th>Agency</th>\n",
       "      <th>Status</th>\n",
       "    </tr>\n",
       "  </thead>\n",
       "  <tbody>\n",
       "    <tr>\n",
       "      <th>0</th>\n",
       "      <td>1</td>\n",
       "      <td>NATHANIEL FORD</td>\n",
       "      <td>GENERAL MANAGER-METROPOLITAN TRANSIT AUTHORITY</td>\n",
       "      <td>167411.18</td>\n",
       "      <td>0.0</td>\n",
       "      <td>400184.25</td>\n",
       "      <td>NaN</td>\n",
       "      <td>567595.43</td>\n",
       "      <td>567595.43</td>\n",
       "      <td>2011</td>\n",
       "      <td>NaN</td>\n",
       "      <td>San Francisco</td>\n",
       "      <td>NaN</td>\n",
       "    </tr>\n",
       "    <tr>\n",
       "      <th>1</th>\n",
       "      <td>2</td>\n",
       "      <td>GARY JIMENEZ</td>\n",
       "      <td>CAPTAIN III (POLICE DEPARTMENT)</td>\n",
       "      <td>155966.02</td>\n",
       "      <td>245131.88</td>\n",
       "      <td>137811.38</td>\n",
       "      <td>NaN</td>\n",
       "      <td>538909.28</td>\n",
       "      <td>538909.28</td>\n",
       "      <td>2011</td>\n",
       "      <td>NaN</td>\n",
       "      <td>San Francisco</td>\n",
       "      <td>NaN</td>\n",
       "    </tr>\n",
       "    <tr>\n",
       "      <th>2</th>\n",
       "      <td>3</td>\n",
       "      <td>ALBERT PARDINI</td>\n",
       "      <td>CAPTAIN III (POLICE DEPARTMENT)</td>\n",
       "      <td>212739.13</td>\n",
       "      <td>106088.18</td>\n",
       "      <td>16452.6</td>\n",
       "      <td>NaN</td>\n",
       "      <td>335279.91</td>\n",
       "      <td>335279.91</td>\n",
       "      <td>2011</td>\n",
       "      <td>NaN</td>\n",
       "      <td>San Francisco</td>\n",
       "      <td>NaN</td>\n",
       "    </tr>\n",
       "    <tr>\n",
       "      <th>3</th>\n",
       "      <td>4</td>\n",
       "      <td>CHRISTOPHER CHONG</td>\n",
       "      <td>WIRE ROPE CABLE MAINTENANCE MECHANIC</td>\n",
       "      <td>77916.0</td>\n",
       "      <td>56120.71</td>\n",
       "      <td>198306.9</td>\n",
       "      <td>NaN</td>\n",
       "      <td>332343.61</td>\n",
       "      <td>332343.61</td>\n",
       "      <td>2011</td>\n",
       "      <td>NaN</td>\n",
       "      <td>San Francisco</td>\n",
       "      <td>NaN</td>\n",
       "    </tr>\n",
       "    <tr>\n",
       "      <th>4</th>\n",
       "      <td>5</td>\n",
       "      <td>PATRICK GARDNER</td>\n",
       "      <td>DEPUTY CHIEF OF DEPARTMENT,(FIRE DEPARTMENT)</td>\n",
       "      <td>134401.6</td>\n",
       "      <td>9737.0</td>\n",
       "      <td>182234.59</td>\n",
       "      <td>NaN</td>\n",
       "      <td>326373.19</td>\n",
       "      <td>326373.19</td>\n",
       "      <td>2011</td>\n",
       "      <td>NaN</td>\n",
       "      <td>San Francisco</td>\n",
       "      <td>NaN</td>\n",
       "    </tr>\n",
       "  </tbody>\n",
       "</table>\n",
       "</div>"
      ],
      "text/plain": [
       "   Id       EmployeeName                                        JobTitle  \\\n",
       "0   1     NATHANIEL FORD  GENERAL MANAGER-METROPOLITAN TRANSIT AUTHORITY   \n",
       "1   2       GARY JIMENEZ                 CAPTAIN III (POLICE DEPARTMENT)   \n",
       "2   3     ALBERT PARDINI                 CAPTAIN III (POLICE DEPARTMENT)   \n",
       "3   4  CHRISTOPHER CHONG            WIRE ROPE CABLE MAINTENANCE MECHANIC   \n",
       "4   5    PATRICK GARDNER    DEPUTY CHIEF OF DEPARTMENT,(FIRE DEPARTMENT)   \n",
       "\n",
       "     BasePay OvertimePay   OtherPay Benefits   TotalPay  TotalPayBenefits  \\\n",
       "0  167411.18         0.0  400184.25      NaN  567595.43         567595.43   \n",
       "1  155966.02   245131.88  137811.38      NaN  538909.28         538909.28   \n",
       "2  212739.13   106088.18    16452.6      NaN  335279.91         335279.91   \n",
       "3    77916.0    56120.71   198306.9      NaN  332343.61         332343.61   \n",
       "4   134401.6      9737.0  182234.59      NaN  326373.19         326373.19   \n",
       "\n",
       "   Year  Notes         Agency Status  \n",
       "0  2011    NaN  San Francisco    NaN  \n",
       "1  2011    NaN  San Francisco    NaN  \n",
       "2  2011    NaN  San Francisco    NaN  \n",
       "3  2011    NaN  San Francisco    NaN  \n",
       "4  2011    NaN  San Francisco    NaN  "
      ]
     },
     "execution_count": 15,
     "metadata": {},
     "output_type": "execute_result"
    }
   ],
   "source": [
    "# Your code here:\n",
    "data.head()"
   ]
  },
  {
   "cell_type": "code",
   "execution_count": 5,
   "metadata": {
    "colab": {
     "base_uri": "https://localhost:8080/",
     "height": 530
    },
    "id": "MtrTvrTMzSx9",
    "outputId": "0dae2341-f13f-4cbe-a9ee-93804e23d1c0"
   },
   "outputs": [
    {
     "data": {
      "text/html": [
       "\n",
       "  <div id=\"df-61a113bb-ff3a-46bc-815c-31c8ac692264\">\n",
       "    <div class=\"colab-df-container\">\n",
       "      <div>\n",
       "<style scoped>\n",
       "    .dataframe tbody tr th:only-of-type {\n",
       "        vertical-align: middle;\n",
       "    }\n",
       "\n",
       "    .dataframe tbody tr th {\n",
       "        vertical-align: top;\n",
       "    }\n",
       "\n",
       "    .dataframe thead th {\n",
       "        text-align: right;\n",
       "    }\n",
       "</style>\n",
       "<table border=\"1\" class=\"dataframe\">\n",
       "  <thead>\n",
       "    <tr style=\"text-align: right;\">\n",
       "      <th></th>\n",
       "      <th>Id</th>\n",
       "      <th>EmployeeName</th>\n",
       "      <th>JobTitle</th>\n",
       "      <th>BasePay</th>\n",
       "      <th>OvertimePay</th>\n",
       "      <th>OtherPay</th>\n",
       "      <th>Benefits</th>\n",
       "      <th>TotalPay</th>\n",
       "      <th>TotalPayBenefits</th>\n",
       "      <th>Year</th>\n",
       "      <th>Notes</th>\n",
       "      <th>Agency</th>\n",
       "      <th>Status</th>\n",
       "    </tr>\n",
       "  </thead>\n",
       "  <tbody>\n",
       "    <tr>\n",
       "      <th>0</th>\n",
       "      <td>1</td>\n",
       "      <td>NATHANIEL FORD</td>\n",
       "      <td>GENERAL MANAGER-METROPOLITAN TRANSIT AUTHORITY</td>\n",
       "      <td>167411.18</td>\n",
       "      <td>0.0</td>\n",
       "      <td>400184.25</td>\n",
       "      <td>NaN</td>\n",
       "      <td>567595.43</td>\n",
       "      <td>567595.43</td>\n",
       "      <td>2011</td>\n",
       "      <td>NaN</td>\n",
       "      <td>San Francisco</td>\n",
       "      <td>NaN</td>\n",
       "    </tr>\n",
       "    <tr>\n",
       "      <th>1</th>\n",
       "      <td>2</td>\n",
       "      <td>GARY JIMENEZ</td>\n",
       "      <td>CAPTAIN III (POLICE DEPARTMENT)</td>\n",
       "      <td>155966.02</td>\n",
       "      <td>245131.88</td>\n",
       "      <td>137811.38</td>\n",
       "      <td>NaN</td>\n",
       "      <td>538909.28</td>\n",
       "      <td>538909.28</td>\n",
       "      <td>2011</td>\n",
       "      <td>NaN</td>\n",
       "      <td>San Francisco</td>\n",
       "      <td>NaN</td>\n",
       "    </tr>\n",
       "    <tr>\n",
       "      <th>2</th>\n",
       "      <td>3</td>\n",
       "      <td>ALBERT PARDINI</td>\n",
       "      <td>CAPTAIN III (POLICE DEPARTMENT)</td>\n",
       "      <td>212739.13</td>\n",
       "      <td>106088.18</td>\n",
       "      <td>16452.6</td>\n",
       "      <td>NaN</td>\n",
       "      <td>335279.91</td>\n",
       "      <td>335279.91</td>\n",
       "      <td>2011</td>\n",
       "      <td>NaN</td>\n",
       "      <td>San Francisco</td>\n",
       "      <td>NaN</td>\n",
       "    </tr>\n",
       "    <tr>\n",
       "      <th>3</th>\n",
       "      <td>4</td>\n",
       "      <td>CHRISTOPHER CHONG</td>\n",
       "      <td>WIRE ROPE CABLE MAINTENANCE MECHANIC</td>\n",
       "      <td>77916.0</td>\n",
       "      <td>56120.71</td>\n",
       "      <td>198306.9</td>\n",
       "      <td>NaN</td>\n",
       "      <td>332343.61</td>\n",
       "      <td>332343.61</td>\n",
       "      <td>2011</td>\n",
       "      <td>NaN</td>\n",
       "      <td>San Francisco</td>\n",
       "      <td>NaN</td>\n",
       "    </tr>\n",
       "    <tr>\n",
       "      <th>4</th>\n",
       "      <td>5</td>\n",
       "      <td>PATRICK GARDNER</td>\n",
       "      <td>DEPUTY CHIEF OF DEPARTMENT,(FIRE DEPARTMENT)</td>\n",
       "      <td>134401.6</td>\n",
       "      <td>9737.0</td>\n",
       "      <td>182234.59</td>\n",
       "      <td>NaN</td>\n",
       "      <td>326373.19</td>\n",
       "      <td>326373.19</td>\n",
       "      <td>2011</td>\n",
       "      <td>NaN</td>\n",
       "      <td>San Francisco</td>\n",
       "      <td>NaN</td>\n",
       "    </tr>\n",
       "  </tbody>\n",
       "</table>\n",
       "</div>\n",
       "      <button class=\"colab-df-convert\" onclick=\"convertToInteractive('df-61a113bb-ff3a-46bc-815c-31c8ac692264')\"\n",
       "              title=\"Convert this dataframe to an interactive table.\"\n",
       "              style=\"display:none;\">\n",
       "        \n",
       "  <svg xmlns=\"http://www.w3.org/2000/svg\" height=\"24px\"viewBox=\"0 0 24 24\"\n",
       "       width=\"24px\">\n",
       "    <path d=\"M0 0h24v24H0V0z\" fill=\"none\"/>\n",
       "    <path d=\"M18.56 5.44l.94 2.06.94-2.06 2.06-.94-2.06-.94-.94-2.06-.94 2.06-2.06.94zm-11 1L8.5 8.5l.94-2.06 2.06-.94-2.06-.94L8.5 2.5l-.94 2.06-2.06.94zm10 10l.94 2.06.94-2.06 2.06-.94-2.06-.94-.94-2.06-.94 2.06-2.06.94z\"/><path d=\"M17.41 7.96l-1.37-1.37c-.4-.4-.92-.59-1.43-.59-.52 0-1.04.2-1.43.59L10.3 9.45l-7.72 7.72c-.78.78-.78 2.05 0 2.83L4 21.41c.39.39.9.59 1.41.59.51 0 1.02-.2 1.41-.59l7.78-7.78 2.81-2.81c.8-.78.8-2.07 0-2.86zM5.41 20L4 18.59l7.72-7.72 1.47 1.35L5.41 20z\"/>\n",
       "  </svg>\n",
       "      </button>\n",
       "      \n",
       "  <style>\n",
       "    .colab-df-container {\n",
       "      display:flex;\n",
       "      flex-wrap:wrap;\n",
       "      gap: 12px;\n",
       "    }\n",
       "\n",
       "    .colab-df-convert {\n",
       "      background-color: #E8F0FE;\n",
       "      border: none;\n",
       "      border-radius: 50%;\n",
       "      cursor: pointer;\n",
       "      display: none;\n",
       "      fill: #1967D2;\n",
       "      height: 32px;\n",
       "      padding: 0 0 0 0;\n",
       "      width: 32px;\n",
       "    }\n",
       "\n",
       "    .colab-df-convert:hover {\n",
       "      background-color: #E2EBFA;\n",
       "      box-shadow: 0px 1px 2px rgba(60, 64, 67, 0.3), 0px 1px 3px 1px rgba(60, 64, 67, 0.15);\n",
       "      fill: #174EA6;\n",
       "    }\n",
       "\n",
       "    [theme=dark] .colab-df-convert {\n",
       "      background-color: #3B4455;\n",
       "      fill: #D2E3FC;\n",
       "    }\n",
       "\n",
       "    [theme=dark] .colab-df-convert:hover {\n",
       "      background-color: #434B5C;\n",
       "      box-shadow: 0px 1px 3px 1px rgba(0, 0, 0, 0.15);\n",
       "      filter: drop-shadow(0px 1px 2px rgba(0, 0, 0, 0.3));\n",
       "      fill: #FFFFFF;\n",
       "    }\n",
       "  </style>\n",
       "\n",
       "      <script>\n",
       "        const buttonEl =\n",
       "          document.querySelector('#df-61a113bb-ff3a-46bc-815c-31c8ac692264 button.colab-df-convert');\n",
       "        buttonEl.style.display =\n",
       "          google.colab.kernel.accessAllowed ? 'block' : 'none';\n",
       "\n",
       "        async function convertToInteractive(key) {\n",
       "          const element = document.querySelector('#df-61a113bb-ff3a-46bc-815c-31c8ac692264');\n",
       "          const dataTable =\n",
       "            await google.colab.kernel.invokeFunction('convertToInteractive',\n",
       "                                                     [key], {});\n",
       "          if (!dataTable) return;\n",
       "\n",
       "          const docLinkHtml = 'Like what you see? Visit the ' +\n",
       "            '<a target=\"_blank\" href=https://colab.research.google.com/notebooks/data_table.ipynb>data table notebook</a>'\n",
       "            + ' to learn more about interactive tables.';\n",
       "          element.innerHTML = '';\n",
       "          dataTable['output_type'] = 'display_data';\n",
       "          await google.colab.output.renderOutput(dataTable, element);\n",
       "          const docLink = document.createElement('div');\n",
       "          docLink.innerHTML = docLinkHtml;\n",
       "          element.appendChild(docLink);\n",
       "        }\n",
       "      </script>\n",
       "    </div>\n",
       "  </div>\n",
       "  "
      ],
      "text/plain": [
       "   Id       EmployeeName                                        JobTitle  \\\n",
       "0   1     NATHANIEL FORD  GENERAL MANAGER-METROPOLITAN TRANSIT AUTHORITY   \n",
       "1   2       GARY JIMENEZ                 CAPTAIN III (POLICE DEPARTMENT)   \n",
       "2   3     ALBERT PARDINI                 CAPTAIN III (POLICE DEPARTMENT)   \n",
       "3   4  CHRISTOPHER CHONG            WIRE ROPE CABLE MAINTENANCE MECHANIC   \n",
       "4   5    PATRICK GARDNER    DEPUTY CHIEF OF DEPARTMENT,(FIRE DEPARTMENT)   \n",
       "\n",
       "     BasePay OvertimePay   OtherPay Benefits   TotalPay  TotalPayBenefits  \\\n",
       "0  167411.18         0.0  400184.25      NaN  567595.43         567595.43   \n",
       "1  155966.02   245131.88  137811.38      NaN  538909.28         538909.28   \n",
       "2  212739.13   106088.18    16452.6      NaN  335279.91         335279.91   \n",
       "3    77916.0    56120.71   198306.9      NaN  332343.61         332343.61   \n",
       "4   134401.6      9737.0  182234.59      NaN  326373.19         326373.19   \n",
       "\n",
       "   Year  Notes         Agency Status  \n",
       "0  2011    NaN  San Francisco    NaN  \n",
       "1  2011    NaN  San Francisco    NaN  \n",
       "2  2011    NaN  San Francisco    NaN  \n",
       "3  2011    NaN  San Francisco    NaN  \n",
       "4  2011    NaN  San Francisco    NaN  "
      ]
     },
     "execution_count": 5,
     "metadata": {},
     "output_type": "execute_result"
    }
   ],
   "source": []
  },
  {
   "cell_type": "markdown",
   "metadata": {
    "id": "78ppeI4czSx-"
   },
   "source": [
    "We see from looking at the `head` function that there is quite a bit of missing data. Get the amount of missing data in every column"
   ]
  },
  {
   "cell_type": "code",
   "execution_count": 16,
   "metadata": {},
   "outputs": [
    {
     "data": {
      "text/plain": [
       "Id                       0\n",
       "EmployeeName             0\n",
       "JobTitle                 0\n",
       "BasePay                605\n",
       "OvertimePay              0\n",
       "OtherPay                 0\n",
       "Benefits             36159\n",
       "TotalPay                 0\n",
       "TotalPayBenefits         0\n",
       "Year                     0\n",
       "Notes               148654\n",
       "Agency                   0\n",
       "Status              110535\n",
       "dtype: int64"
      ]
     },
     "execution_count": 16,
     "metadata": {},
     "output_type": "execute_result"
    }
   ],
   "source": [
    "# Your code here:\n",
    "data.isnull().sum()"
   ]
  },
  {
   "cell_type": "code",
   "execution_count": 6,
   "metadata": {
    "colab": {
     "base_uri": "https://localhost:8080/"
    },
    "id": "mqyrt17AzSx-",
    "outputId": "c0d862ff-8beb-417a-9b6e-2ae950c19492"
   },
   "outputs": [
    {
     "data": {
      "text/plain": [
       "Id                       0\n",
       "EmployeeName             0\n",
       "JobTitle                 0\n",
       "BasePay                605\n",
       "OvertimePay              0\n",
       "OtherPay                 0\n",
       "Benefits             36159\n",
       "TotalPay                 0\n",
       "TotalPayBenefits         0\n",
       "Year                     0\n",
       "Notes               148654\n",
       "Agency                   0\n",
       "Status              110535\n",
       "dtype: int64"
      ]
     },
     "execution_count": 6,
     "metadata": {},
     "output_type": "execute_result"
    }
   ],
   "source": []
  },
  {
   "cell_type": "markdown",
   "metadata": {
    "id": "P7_uHi3nzSx_"
   },
   "source": [
    "Get the shape of the dataframe"
   ]
  },
  {
   "cell_type": "code",
   "execution_count": 17,
   "metadata": {},
   "outputs": [
    {
     "data": {
      "text/plain": [
       "(148654, 13)"
      ]
     },
     "execution_count": 17,
     "metadata": {},
     "output_type": "execute_result"
    }
   ],
   "source": [
    "# Your code here\n",
    "data.shape"
   ]
  },
  {
   "cell_type": "code",
   "execution_count": 7,
   "metadata": {
    "colab": {
     "base_uri": "https://localhost:8080/"
    },
    "id": "_cJvEdTgzSx_",
    "outputId": "61a90101-4466-42db-fc53-b2be109f586d"
   },
   "outputs": [
    {
     "data": {
      "text/plain": [
       "(148654, 13)"
      ]
     },
     "execution_count": 7,
     "metadata": {},
     "output_type": "execute_result"
    }
   ],
   "source": []
  },
  {
   "cell_type": "markdown",
   "metadata": {
    "id": "Dvi-WtBNzSyA"
   },
   "source": [
    "Given output of the previous two cells, drop the corresponding column and compute again the amount of missing values."
   ]
  },
  {
   "cell_type": "code",
   "execution_count": 18,
   "metadata": {},
   "outputs": [
    {
     "data": {
      "text/plain": [
       "Id                       0\n",
       "EmployeeName             0\n",
       "JobTitle                 0\n",
       "BasePay                605\n",
       "OvertimePay              0\n",
       "OtherPay                 0\n",
       "Benefits             36159\n",
       "TotalPay                 0\n",
       "TotalPayBenefits         0\n",
       "Year                     0\n",
       "Agency                   0\n",
       "Status              110535\n",
       "dtype: int64"
      ]
     },
     "execution_count": 18,
     "metadata": {},
     "output_type": "execute_result"
    }
   ],
   "source": [
    "# Your code here\n",
    "data1 = data.copy()\n",
    "data1 = data1.drop(\"Notes\", axis=1)\n",
    "data1.isnull().sum()"
   ]
  },
  {
   "cell_type": "code",
   "execution_count": 8,
   "metadata": {
    "colab": {
     "base_uri": "https://localhost:8080/"
    },
    "id": "qOynt6ZkzSyA",
    "outputId": "6e80e3ba-a79a-402d-e2be-996a8ab13c77"
   },
   "outputs": [
    {
     "data": {
      "text/plain": [
       "Id                       0\n",
       "EmployeeName             0\n",
       "JobTitle                 0\n",
       "BasePay                605\n",
       "OvertimePay              0\n",
       "OtherPay                 0\n",
       "Benefits             36159\n",
       "TotalPay                 0\n",
       "TotalPayBenefits         0\n",
       "Year                     0\n",
       "Agency                   0\n",
       "Status              110535\n",
       "dtype: int64"
      ]
     },
     "execution_count": 8,
     "metadata": {},
     "output_type": "execute_result"
    }
   ],
   "source": []
  },
  {
   "cell_type": "markdown",
   "metadata": {
    "id": "wrIJFfY4zSyB"
   },
   "source": [
    "Check out what are the possible values of the column \"Status\"."
   ]
  },
  {
   "cell_type": "markdown",
   "metadata": {},
   "source": []
  },
  {
   "cell_type": "code",
   "execution_count": 19,
   "metadata": {},
   "outputs": [
    {
     "data": {
      "text/plain": [
       "array([nan, 'PT', 'FT'], dtype=object)"
      ]
     },
     "execution_count": 19,
     "metadata": {},
     "output_type": "execute_result"
    }
   ],
   "source": [
    "# Your code here\n",
    "data1['Status'].unique()"
   ]
  },
  {
   "cell_type": "code",
   "execution_count": 9,
   "metadata": {
    "colab": {
     "base_uri": "https://localhost:8080/"
    },
    "id": "3-rUObH9zSyB",
    "outputId": "8d9b940d-694c-401b-8535-d390e829acdc"
   },
   "outputs": [
    {
     "data": {
      "text/plain": [
       "array([nan, 'PT', 'FT'], dtype=object)"
      ]
     },
     "execution_count": 9,
     "metadata": {},
     "output_type": "execute_result"
    }
   ],
   "source": []
  },
  {
   "cell_type": "code",
   "execution_count": null,
   "metadata": {},
   "outputs": [],
   "source": []
  },
  {
   "cell_type": "markdown",
   "metadata": {
    "id": "s7c1YgwUzSyC"
   },
   "source": [
    "Drop any row with missing values in the \"Status\" column and compute again the number of missing values."
   ]
  },
  {
   "cell_type": "code",
   "execution_count": 20,
   "metadata": {},
   "outputs": [],
   "source": [
    "# Your code here\n",
    "data2 = data1.copy()\n",
    "data2 = data2[data2['Status'].isna()==False ]"
   ]
  },
  {
   "cell_type": "code",
   "execution_count": 21,
   "metadata": {
    "id": "RNuimPv6zSyC"
   },
   "outputs": [
    {
     "data": {
      "text/plain": [
       "Id                  0\n",
       "EmployeeName        0\n",
       "JobTitle            0\n",
       "BasePay             0\n",
       "OvertimePay         0\n",
       "OtherPay            0\n",
       "Benefits            0\n",
       "TotalPay            0\n",
       "TotalPayBenefits    0\n",
       "Year                0\n",
       "Agency              0\n",
       "Status              0\n",
       "dtype: int64"
      ]
     },
     "execution_count": 21,
     "metadata": {},
     "output_type": "execute_result"
    }
   ],
   "source": [
    "# Your code here\n",
    "data2.isnull().sum()"
   ]
  },
  {
   "cell_type": "code",
   "execution_count": 11,
   "metadata": {
    "colab": {
     "base_uri": "https://localhost:8080/"
    },
    "id": "vZzzRW3ezSyC",
    "outputId": "719afa36-7982-4685-c606-195ea8e0f658"
   },
   "outputs": [
    {
     "data": {
      "text/plain": [
       "Id                  0\n",
       "EmployeeName        0\n",
       "JobTitle            0\n",
       "BasePay             0\n",
       "OvertimePay         0\n",
       "OtherPay            0\n",
       "Benefits            0\n",
       "TotalPay            0\n",
       "TotalPayBenefits    0\n",
       "Year                0\n",
       "Agency              0\n",
       "Status              0\n",
       "dtype: int64"
      ]
     },
     "execution_count": 11,
     "metadata": {},
     "output_type": "execute_result"
    }
   ],
   "source": []
  },
  {
   "cell_type": "markdown",
   "metadata": {
    "id": "rxOUWb9AzSyD"
   },
   "source": [
    "Check out the types of each column and see if they make sense."
   ]
  },
  {
   "cell_type": "code",
   "execution_count": 25,
   "metadata": {},
   "outputs": [
    {
     "name": "stdout",
     "output_type": "stream",
     "text": [
      "<class 'pandas.core.frame.DataFrame'>\n",
      "Int64Index: 38119 entries, 110531 to 148653\n",
      "Data columns (total 12 columns):\n",
      " #   Column            Non-Null Count  Dtype  \n",
      "---  ------            --------------  -----  \n",
      " 0   Id                38119 non-null  int64  \n",
      " 1   EmployeeName      38119 non-null  object \n",
      " 2   JobTitle          38119 non-null  object \n",
      " 3   BasePay           38119 non-null  object \n",
      " 4   OvertimePay       38119 non-null  object \n",
      " 5   OtherPay          38119 non-null  object \n",
      " 6   Benefits          38119 non-null  object \n",
      " 7   TotalPay          38119 non-null  float64\n",
      " 8   TotalPayBenefits  38119 non-null  float64\n",
      " 9   Year              38119 non-null  int64  \n",
      " 10  Agency            38119 non-null  object \n",
      " 11  Status            38119 non-null  object \n",
      "dtypes: float64(2), int64(2), object(8)\n",
      "memory usage: 3.8+ MB\n"
     ]
    }
   ],
   "source": [
    "# Your code here\n",
    "data2.info()"
   ]
  },
  {
   "cell_type": "code",
   "execution_count": 12,
   "metadata": {
    "colab": {
     "base_uri": "https://localhost:8080/"
    },
    "id": "MYtPT0MJzSyD",
    "outputId": "7fc00b2a-b36b-4e0d-fc11-3b87e284ce92"
   },
   "outputs": [
    {
     "name": "stdout",
     "output_type": "stream",
     "text": [
      "<class 'pandas.core.frame.DataFrame'>\n",
      "Int64Index: 38119 entries, 110531 to 148653\n",
      "Data columns (total 12 columns):\n",
      " #   Column            Non-Null Count  Dtype  \n",
      "---  ------            --------------  -----  \n",
      " 0   Id                38119 non-null  int64  \n",
      " 1   EmployeeName      38119 non-null  object \n",
      " 2   JobTitle          38119 non-null  object \n",
      " 3   BasePay           38119 non-null  object \n",
      " 4   OvertimePay       38119 non-null  object \n",
      " 5   OtherPay          38119 non-null  object \n",
      " 6   Benefits          38119 non-null  object \n",
      " 7   TotalPay          38119 non-null  float64\n",
      " 8   TotalPayBenefits  38119 non-null  float64\n",
      " 9   Year              38119 non-null  int64  \n",
      " 10  Agency            38119 non-null  object \n",
      " 11  Status            38119 non-null  object \n",
      "dtypes: float64(2), int64(2), object(8)\n",
      "memory usage: 3.8+ MB\n"
     ]
    }
   ],
   "source": []
  },
  {
   "cell_type": "code",
   "execution_count": 26,
   "metadata": {},
   "outputs": [
    {
     "data": {
      "text/html": [
       "<div>\n",
       "<style scoped>\n",
       "    .dataframe tbody tr th:only-of-type {\n",
       "        vertical-align: middle;\n",
       "    }\n",
       "\n",
       "    .dataframe tbody tr th {\n",
       "        vertical-align: top;\n",
       "    }\n",
       "\n",
       "    .dataframe thead th {\n",
       "        text-align: right;\n",
       "    }\n",
       "</style>\n",
       "<table border=\"1\" class=\"dataframe\">\n",
       "  <thead>\n",
       "    <tr style=\"text-align: right;\">\n",
       "      <th></th>\n",
       "      <th>Id</th>\n",
       "      <th>EmployeeName</th>\n",
       "      <th>JobTitle</th>\n",
       "      <th>BasePay</th>\n",
       "      <th>OvertimePay</th>\n",
       "      <th>OtherPay</th>\n",
       "      <th>Benefits</th>\n",
       "      <th>TotalPay</th>\n",
       "      <th>TotalPayBenefits</th>\n",
       "      <th>Year</th>\n",
       "      <th>Agency</th>\n",
       "      <th>Status</th>\n",
       "    </tr>\n",
       "  </thead>\n",
       "  <tbody>\n",
       "    <tr>\n",
       "      <th>110531</th>\n",
       "      <td>110532</td>\n",
       "      <td>David Shinn</td>\n",
       "      <td>Deputy Chief 3</td>\n",
       "      <td>129150.01</td>\n",
       "      <td>0.0</td>\n",
       "      <td>342802.63</td>\n",
       "      <td>38780.04</td>\n",
       "      <td>471952.64</td>\n",
       "      <td>510732.68</td>\n",
       "      <td>2014</td>\n",
       "      <td>San Francisco</td>\n",
       "      <td>PT</td>\n",
       "    </tr>\n",
       "    <tr>\n",
       "      <th>110532</th>\n",
       "      <td>110533</td>\n",
       "      <td>Amy P Hart</td>\n",
       "      <td>Asst Med Examiner</td>\n",
       "      <td>318835.49</td>\n",
       "      <td>10712.95</td>\n",
       "      <td>60563.54</td>\n",
       "      <td>89540.23</td>\n",
       "      <td>390111.98</td>\n",
       "      <td>479652.21</td>\n",
       "      <td>2014</td>\n",
       "      <td>San Francisco</td>\n",
       "      <td>FT</td>\n",
       "    </tr>\n",
       "    <tr>\n",
       "      <th>110533</th>\n",
       "      <td>110534</td>\n",
       "      <td>William J Coaker Jr.</td>\n",
       "      <td>Chief Investment Officer</td>\n",
       "      <td>257340.0</td>\n",
       "      <td>0.0</td>\n",
       "      <td>82313.7</td>\n",
       "      <td>96570.66</td>\n",
       "      <td>339653.70</td>\n",
       "      <td>436224.36</td>\n",
       "      <td>2014</td>\n",
       "      <td>San Francisco</td>\n",
       "      <td>PT</td>\n",
       "    </tr>\n",
       "    <tr>\n",
       "      <th>110534</th>\n",
       "      <td>110535</td>\n",
       "      <td>Gregory P Suhr</td>\n",
       "      <td>Chief of Police</td>\n",
       "      <td>307450.04</td>\n",
       "      <td>0.0</td>\n",
       "      <td>19266.72</td>\n",
       "      <td>91302.46</td>\n",
       "      <td>326716.76</td>\n",
       "      <td>418019.22</td>\n",
       "      <td>2014</td>\n",
       "      <td>San Francisco</td>\n",
       "      <td>FT</td>\n",
       "    </tr>\n",
       "    <tr>\n",
       "      <th>110535</th>\n",
       "      <td>110536</td>\n",
       "      <td>Joanne M Hayes-White</td>\n",
       "      <td>Chief, Fire Department</td>\n",
       "      <td>302068.0</td>\n",
       "      <td>0.0</td>\n",
       "      <td>24165.44</td>\n",
       "      <td>91201.66</td>\n",
       "      <td>326233.44</td>\n",
       "      <td>417435.10</td>\n",
       "      <td>2014</td>\n",
       "      <td>San Francisco</td>\n",
       "      <td>FT</td>\n",
       "    </tr>\n",
       "  </tbody>\n",
       "</table>\n",
       "</div>"
      ],
      "text/plain": [
       "            Id          EmployeeName                  JobTitle    BasePay  \\\n",
       "110531  110532           David Shinn            Deputy Chief 3  129150.01   \n",
       "110532  110533            Amy P Hart         Asst Med Examiner  318835.49   \n",
       "110533  110534  William J Coaker Jr.  Chief Investment Officer   257340.0   \n",
       "110534  110535        Gregory P Suhr           Chief of Police  307450.04   \n",
       "110535  110536  Joanne M Hayes-White    Chief, Fire Department   302068.0   \n",
       "\n",
       "       OvertimePay   OtherPay  Benefits   TotalPay  TotalPayBenefits  Year  \\\n",
       "110531         0.0  342802.63  38780.04  471952.64         510732.68  2014   \n",
       "110532    10712.95   60563.54  89540.23  390111.98         479652.21  2014   \n",
       "110533         0.0    82313.7  96570.66  339653.70         436224.36  2014   \n",
       "110534         0.0   19266.72  91302.46  326716.76         418019.22  2014   \n",
       "110535         0.0   24165.44  91201.66  326233.44         417435.10  2014   \n",
       "\n",
       "               Agency Status  \n",
       "110531  San Francisco     PT  \n",
       "110532  San Francisco     FT  \n",
       "110533  San Francisco     PT  \n",
       "110534  San Francisco     FT  \n",
       "110535  San Francisco     FT  "
      ]
     },
     "execution_count": 26,
     "metadata": {},
     "output_type": "execute_result"
    }
   ],
   "source": [
    "# Your code here\n",
    "data2.head()"
   ]
  },
  {
   "cell_type": "code",
   "execution_count": 13,
   "metadata": {
    "colab": {
     "base_uri": "https://localhost:8080/",
     "height": 374
    },
    "id": "8mJv_l6HzSyE",
    "outputId": "5dd1494c-537e-4a0b-c0c0-761ee64a00dd"
   },
   "outputs": [
    {
     "data": {
      "text/html": [
       "\n",
       "  <div id=\"df-acd7af5f-deca-471b-8008-08a7ef418648\">\n",
       "    <div class=\"colab-df-container\">\n",
       "      <div>\n",
       "<style scoped>\n",
       "    .dataframe tbody tr th:only-of-type {\n",
       "        vertical-align: middle;\n",
       "    }\n",
       "\n",
       "    .dataframe tbody tr th {\n",
       "        vertical-align: top;\n",
       "    }\n",
       "\n",
       "    .dataframe thead th {\n",
       "        text-align: right;\n",
       "    }\n",
       "</style>\n",
       "<table border=\"1\" class=\"dataframe\">\n",
       "  <thead>\n",
       "    <tr style=\"text-align: right;\">\n",
       "      <th></th>\n",
       "      <th>Id</th>\n",
       "      <th>EmployeeName</th>\n",
       "      <th>JobTitle</th>\n",
       "      <th>BasePay</th>\n",
       "      <th>OvertimePay</th>\n",
       "      <th>OtherPay</th>\n",
       "      <th>Benefits</th>\n",
       "      <th>TotalPay</th>\n",
       "      <th>TotalPayBenefits</th>\n",
       "      <th>Year</th>\n",
       "      <th>Agency</th>\n",
       "      <th>Status</th>\n",
       "    </tr>\n",
       "  </thead>\n",
       "  <tbody>\n",
       "    <tr>\n",
       "      <th>110531</th>\n",
       "      <td>110532</td>\n",
       "      <td>David Shinn</td>\n",
       "      <td>Deputy Chief 3</td>\n",
       "      <td>129150.01</td>\n",
       "      <td>0.0</td>\n",
       "      <td>342802.63</td>\n",
       "      <td>38780.04</td>\n",
       "      <td>471952.64</td>\n",
       "      <td>510732.68</td>\n",
       "      <td>2014</td>\n",
       "      <td>San Francisco</td>\n",
       "      <td>PT</td>\n",
       "    </tr>\n",
       "    <tr>\n",
       "      <th>110532</th>\n",
       "      <td>110533</td>\n",
       "      <td>Amy P Hart</td>\n",
       "      <td>Asst Med Examiner</td>\n",
       "      <td>318835.49</td>\n",
       "      <td>10712.95</td>\n",
       "      <td>60563.54</td>\n",
       "      <td>89540.23</td>\n",
       "      <td>390111.98</td>\n",
       "      <td>479652.21</td>\n",
       "      <td>2014</td>\n",
       "      <td>San Francisco</td>\n",
       "      <td>FT</td>\n",
       "    </tr>\n",
       "    <tr>\n",
       "      <th>110533</th>\n",
       "      <td>110534</td>\n",
       "      <td>William J Coaker Jr.</td>\n",
       "      <td>Chief Investment Officer</td>\n",
       "      <td>257340.0</td>\n",
       "      <td>0.0</td>\n",
       "      <td>82313.7</td>\n",
       "      <td>96570.66</td>\n",
       "      <td>339653.70</td>\n",
       "      <td>436224.36</td>\n",
       "      <td>2014</td>\n",
       "      <td>San Francisco</td>\n",
       "      <td>PT</td>\n",
       "    </tr>\n",
       "    <tr>\n",
       "      <th>110534</th>\n",
       "      <td>110535</td>\n",
       "      <td>Gregory P Suhr</td>\n",
       "      <td>Chief of Police</td>\n",
       "      <td>307450.04</td>\n",
       "      <td>0.0</td>\n",
       "      <td>19266.72</td>\n",
       "      <td>91302.46</td>\n",
       "      <td>326716.76</td>\n",
       "      <td>418019.22</td>\n",
       "      <td>2014</td>\n",
       "      <td>San Francisco</td>\n",
       "      <td>FT</td>\n",
       "    </tr>\n",
       "    <tr>\n",
       "      <th>110535</th>\n",
       "      <td>110536</td>\n",
       "      <td>Joanne M Hayes-White</td>\n",
       "      <td>Chief, Fire Department</td>\n",
       "      <td>302068.0</td>\n",
       "      <td>0.0</td>\n",
       "      <td>24165.44</td>\n",
       "      <td>91201.66</td>\n",
       "      <td>326233.44</td>\n",
       "      <td>417435.10</td>\n",
       "      <td>2014</td>\n",
       "      <td>San Francisco</td>\n",
       "      <td>FT</td>\n",
       "    </tr>\n",
       "  </tbody>\n",
       "</table>\n",
       "</div>\n",
       "      <button class=\"colab-df-convert\" onclick=\"convertToInteractive('df-acd7af5f-deca-471b-8008-08a7ef418648')\"\n",
       "              title=\"Convert this dataframe to an interactive table.\"\n",
       "              style=\"display:none;\">\n",
       "        \n",
       "  <svg xmlns=\"http://www.w3.org/2000/svg\" height=\"24px\"viewBox=\"0 0 24 24\"\n",
       "       width=\"24px\">\n",
       "    <path d=\"M0 0h24v24H0V0z\" fill=\"none\"/>\n",
       "    <path d=\"M18.56 5.44l.94 2.06.94-2.06 2.06-.94-2.06-.94-.94-2.06-.94 2.06-2.06.94zm-11 1L8.5 8.5l.94-2.06 2.06-.94-2.06-.94L8.5 2.5l-.94 2.06-2.06.94zm10 10l.94 2.06.94-2.06 2.06-.94-2.06-.94-.94-2.06-.94 2.06-2.06.94z\"/><path d=\"M17.41 7.96l-1.37-1.37c-.4-.4-.92-.59-1.43-.59-.52 0-1.04.2-1.43.59L10.3 9.45l-7.72 7.72c-.78.78-.78 2.05 0 2.83L4 21.41c.39.39.9.59 1.41.59.51 0 1.02-.2 1.41-.59l7.78-7.78 2.81-2.81c.8-.78.8-2.07 0-2.86zM5.41 20L4 18.59l7.72-7.72 1.47 1.35L5.41 20z\"/>\n",
       "  </svg>\n",
       "      </button>\n",
       "      \n",
       "  <style>\n",
       "    .colab-df-container {\n",
       "      display:flex;\n",
       "      flex-wrap:wrap;\n",
       "      gap: 12px;\n",
       "    }\n",
       "\n",
       "    .colab-df-convert {\n",
       "      background-color: #E8F0FE;\n",
       "      border: none;\n",
       "      border-radius: 50%;\n",
       "      cursor: pointer;\n",
       "      display: none;\n",
       "      fill: #1967D2;\n",
       "      height: 32px;\n",
       "      padding: 0 0 0 0;\n",
       "      width: 32px;\n",
       "    }\n",
       "\n",
       "    .colab-df-convert:hover {\n",
       "      background-color: #E2EBFA;\n",
       "      box-shadow: 0px 1px 2px rgba(60, 64, 67, 0.3), 0px 1px 3px 1px rgba(60, 64, 67, 0.15);\n",
       "      fill: #174EA6;\n",
       "    }\n",
       "\n",
       "    [theme=dark] .colab-df-convert {\n",
       "      background-color: #3B4455;\n",
       "      fill: #D2E3FC;\n",
       "    }\n",
       "\n",
       "    [theme=dark] .colab-df-convert:hover {\n",
       "      background-color: #434B5C;\n",
       "      box-shadow: 0px 1px 3px 1px rgba(0, 0, 0, 0.15);\n",
       "      filter: drop-shadow(0px 1px 2px rgba(0, 0, 0, 0.3));\n",
       "      fill: #FFFFFF;\n",
       "    }\n",
       "  </style>\n",
       "\n",
       "      <script>\n",
       "        const buttonEl =\n",
       "          document.querySelector('#df-acd7af5f-deca-471b-8008-08a7ef418648 button.colab-df-convert');\n",
       "        buttonEl.style.display =\n",
       "          google.colab.kernel.accessAllowed ? 'block' : 'none';\n",
       "\n",
       "        async function convertToInteractive(key) {\n",
       "          const element = document.querySelector('#df-acd7af5f-deca-471b-8008-08a7ef418648');\n",
       "          const dataTable =\n",
       "            await google.colab.kernel.invokeFunction('convertToInteractive',\n",
       "                                                     [key], {});\n",
       "          if (!dataTable) return;\n",
       "\n",
       "          const docLinkHtml = 'Like what you see? Visit the ' +\n",
       "            '<a target=\"_blank\" href=https://colab.research.google.com/notebooks/data_table.ipynb>data table notebook</a>'\n",
       "            + ' to learn more about interactive tables.';\n",
       "          element.innerHTML = '';\n",
       "          dataTable['output_type'] = 'display_data';\n",
       "          await google.colab.output.renderOutput(dataTable, element);\n",
       "          const docLink = document.createElement('div');\n",
       "          docLink.innerHTML = docLinkHtml;\n",
       "          element.appendChild(docLink);\n",
       "        }\n",
       "      </script>\n",
       "    </div>\n",
       "  </div>\n",
       "  "
      ],
      "text/plain": [
       "            Id          EmployeeName                  JobTitle    BasePay  \\\n",
       "110531  110532           David Shinn            Deputy Chief 3  129150.01   \n",
       "110532  110533            Amy P Hart         Asst Med Examiner  318835.49   \n",
       "110533  110534  William J Coaker Jr.  Chief Investment Officer   257340.0   \n",
       "110534  110535        Gregory P Suhr           Chief of Police  307450.04   \n",
       "110535  110536  Joanne M Hayes-White    Chief, Fire Department   302068.0   \n",
       "\n",
       "       OvertimePay   OtherPay  Benefits   TotalPay  TotalPayBenefits  Year  \\\n",
       "110531         0.0  342802.63  38780.04  471952.64         510732.68  2014   \n",
       "110532    10712.95   60563.54  89540.23  390111.98         479652.21  2014   \n",
       "110533         0.0    82313.7  96570.66  339653.70         436224.36  2014   \n",
       "110534         0.0   19266.72  91302.46  326716.76         418019.22  2014   \n",
       "110535         0.0   24165.44  91201.66  326233.44         417435.10  2014   \n",
       "\n",
       "               Agency Status  \n",
       "110531  San Francisco     PT  \n",
       "110532  San Francisco     FT  \n",
       "110533  San Francisco     PT  \n",
       "110534  San Francisco     FT  \n",
       "110535  San Francisco     FT  "
      ]
     },
     "execution_count": 13,
     "metadata": {},
     "output_type": "execute_result"
    }
   ],
   "source": []
  },
  {
   "cell_type": "markdown",
   "metadata": {
    "id": "lLEKu7vxzSyE"
   },
   "source": [
    "Do any type conversions and reset the index."
   ]
  },
  {
   "cell_type": "code",
   "execution_count": 30,
   "metadata": {},
   "outputs": [],
   "source": [
    "# Your code here\n",
    "data2['BasePay'] = data2['BasePay'].astype('float64')\n",
    "data2['OvertimePay'] = data2['OvertimePay'].astype('float64')\n",
    "data2['OtherPay'] = data2['OtherPay'].astype('float64')\n",
    "data2['Benefits'] = data2['Benefits'].astype('float64')"
   ]
  },
  {
   "cell_type": "code",
   "execution_count": 45,
   "metadata": {
    "id": "ufFv58v_zSyE"
   },
   "outputs": [],
   "source": [
    "data3 = data2.reset_index()"
   ]
  },
  {
   "cell_type": "code",
   "execution_count": 46,
   "metadata": {},
   "outputs": [
    {
     "data": {
      "text/html": [
       "<div>\n",
       "<style scoped>\n",
       "    .dataframe tbody tr th:only-of-type {\n",
       "        vertical-align: middle;\n",
       "    }\n",
       "\n",
       "    .dataframe tbody tr th {\n",
       "        vertical-align: top;\n",
       "    }\n",
       "\n",
       "    .dataframe thead th {\n",
       "        text-align: right;\n",
       "    }\n",
       "</style>\n",
       "<table border=\"1\" class=\"dataframe\">\n",
       "  <thead>\n",
       "    <tr style=\"text-align: right;\">\n",
       "      <th></th>\n",
       "      <th>index</th>\n",
       "      <th>Id</th>\n",
       "      <th>EmployeeName</th>\n",
       "      <th>JobTitle</th>\n",
       "      <th>BasePay</th>\n",
       "      <th>OvertimePay</th>\n",
       "      <th>OtherPay</th>\n",
       "      <th>Benefits</th>\n",
       "      <th>TotalPay</th>\n",
       "      <th>TotalPayBenefits</th>\n",
       "      <th>Year</th>\n",
       "      <th>Agency</th>\n",
       "      <th>Status</th>\n",
       "    </tr>\n",
       "  </thead>\n",
       "  <tbody>\n",
       "    <tr>\n",
       "      <th>0</th>\n",
       "      <td>110531</td>\n",
       "      <td>110532</td>\n",
       "      <td>David Shinn</td>\n",
       "      <td>Deputy Chief 3</td>\n",
       "      <td>129150.01</td>\n",
       "      <td>0.00</td>\n",
       "      <td>342802.63</td>\n",
       "      <td>38780.04</td>\n",
       "      <td>471952.64</td>\n",
       "      <td>510732.68</td>\n",
       "      <td>2014</td>\n",
       "      <td>San Francisco</td>\n",
       "      <td>PT</td>\n",
       "    </tr>\n",
       "    <tr>\n",
       "      <th>1</th>\n",
       "      <td>110532</td>\n",
       "      <td>110533</td>\n",
       "      <td>Amy P Hart</td>\n",
       "      <td>Asst Med Examiner</td>\n",
       "      <td>318835.49</td>\n",
       "      <td>10712.95</td>\n",
       "      <td>60563.54</td>\n",
       "      <td>89540.23</td>\n",
       "      <td>390111.98</td>\n",
       "      <td>479652.21</td>\n",
       "      <td>2014</td>\n",
       "      <td>San Francisco</td>\n",
       "      <td>FT</td>\n",
       "    </tr>\n",
       "    <tr>\n",
       "      <th>2</th>\n",
       "      <td>110533</td>\n",
       "      <td>110534</td>\n",
       "      <td>William J Coaker Jr.</td>\n",
       "      <td>Chief Investment Officer</td>\n",
       "      <td>257340.00</td>\n",
       "      <td>0.00</td>\n",
       "      <td>82313.70</td>\n",
       "      <td>96570.66</td>\n",
       "      <td>339653.70</td>\n",
       "      <td>436224.36</td>\n",
       "      <td>2014</td>\n",
       "      <td>San Francisco</td>\n",
       "      <td>PT</td>\n",
       "    </tr>\n",
       "    <tr>\n",
       "      <th>3</th>\n",
       "      <td>110534</td>\n",
       "      <td>110535</td>\n",
       "      <td>Gregory P Suhr</td>\n",
       "      <td>Chief of Police</td>\n",
       "      <td>307450.04</td>\n",
       "      <td>0.00</td>\n",
       "      <td>19266.72</td>\n",
       "      <td>91302.46</td>\n",
       "      <td>326716.76</td>\n",
       "      <td>418019.22</td>\n",
       "      <td>2014</td>\n",
       "      <td>San Francisco</td>\n",
       "      <td>FT</td>\n",
       "    </tr>\n",
       "    <tr>\n",
       "      <th>4</th>\n",
       "      <td>110535</td>\n",
       "      <td>110536</td>\n",
       "      <td>Joanne M Hayes-White</td>\n",
       "      <td>Chief, Fire Department</td>\n",
       "      <td>302068.00</td>\n",
       "      <td>0.00</td>\n",
       "      <td>24165.44</td>\n",
       "      <td>91201.66</td>\n",
       "      <td>326233.44</td>\n",
       "      <td>417435.10</td>\n",
       "      <td>2014</td>\n",
       "      <td>San Francisco</td>\n",
       "      <td>FT</td>\n",
       "    </tr>\n",
       "  </tbody>\n",
       "</table>\n",
       "</div>"
      ],
      "text/plain": [
       "    index      Id          EmployeeName                  JobTitle    BasePay  \\\n",
       "0  110531  110532           David Shinn            Deputy Chief 3  129150.01   \n",
       "1  110532  110533            Amy P Hart         Asst Med Examiner  318835.49   \n",
       "2  110533  110534  William J Coaker Jr.  Chief Investment Officer  257340.00   \n",
       "3  110534  110535        Gregory P Suhr           Chief of Police  307450.04   \n",
       "4  110535  110536  Joanne M Hayes-White    Chief, Fire Department  302068.00   \n",
       "\n",
       "   OvertimePay   OtherPay  Benefits   TotalPay  TotalPayBenefits  Year  \\\n",
       "0         0.00  342802.63  38780.04  471952.64         510732.68  2014   \n",
       "1     10712.95   60563.54  89540.23  390111.98         479652.21  2014   \n",
       "2         0.00   82313.70  96570.66  339653.70         436224.36  2014   \n",
       "3         0.00   19266.72  91302.46  326716.76         418019.22  2014   \n",
       "4         0.00   24165.44  91201.66  326233.44         417435.10  2014   \n",
       "\n",
       "          Agency Status  \n",
       "0  San Francisco     PT  \n",
       "1  San Francisco     FT  \n",
       "2  San Francisco     PT  \n",
       "3  San Francisco     FT  \n",
       "4  San Francisco     FT  "
      ]
     },
     "execution_count": 46,
     "metadata": {},
     "output_type": "execute_result"
    }
   ],
   "source": [
    "# Your code here\n",
    "data3.head()"
   ]
  },
  {
   "cell_type": "code",
   "execution_count": 15,
   "metadata": {
    "colab": {
     "base_uri": "https://localhost:8080/",
     "height": 374
    },
    "id": "mf7huPFRzSyF",
    "outputId": "3d84ce08-71e7-4121-91ea-bc6e777d0b9f"
   },
   "outputs": [
    {
     "data": {
      "text/html": [
       "\n",
       "  <div id=\"df-1b0914ac-6dea-4fbd-909c-d36600c2670c\">\n",
       "    <div class=\"colab-df-container\">\n",
       "      <div>\n",
       "<style scoped>\n",
       "    .dataframe tbody tr th:only-of-type {\n",
       "        vertical-align: middle;\n",
       "    }\n",
       "\n",
       "    .dataframe tbody tr th {\n",
       "        vertical-align: top;\n",
       "    }\n",
       "\n",
       "    .dataframe thead th {\n",
       "        text-align: right;\n",
       "    }\n",
       "</style>\n",
       "<table border=\"1\" class=\"dataframe\">\n",
       "  <thead>\n",
       "    <tr style=\"text-align: right;\">\n",
       "      <th></th>\n",
       "      <th>Id</th>\n",
       "      <th>EmployeeName</th>\n",
       "      <th>JobTitle</th>\n",
       "      <th>BasePay</th>\n",
       "      <th>OvertimePay</th>\n",
       "      <th>OtherPay</th>\n",
       "      <th>Benefits</th>\n",
       "      <th>TotalPay</th>\n",
       "      <th>TotalPayBenefits</th>\n",
       "      <th>Year</th>\n",
       "      <th>Agency</th>\n",
       "      <th>Status</th>\n",
       "    </tr>\n",
       "  </thead>\n",
       "  <tbody>\n",
       "    <tr>\n",
       "      <th>0</th>\n",
       "      <td>110532</td>\n",
       "      <td>David Shinn</td>\n",
       "      <td>Deputy Chief 3</td>\n",
       "      <td>129150.01</td>\n",
       "      <td>0.00</td>\n",
       "      <td>342802.63</td>\n",
       "      <td>38780.04</td>\n",
       "      <td>471952.64</td>\n",
       "      <td>510732.68</td>\n",
       "      <td>2014</td>\n",
       "      <td>San Francisco</td>\n",
       "      <td>PT</td>\n",
       "    </tr>\n",
       "    <tr>\n",
       "      <th>1</th>\n",
       "      <td>110533</td>\n",
       "      <td>Amy P Hart</td>\n",
       "      <td>Asst Med Examiner</td>\n",
       "      <td>318835.49</td>\n",
       "      <td>10712.95</td>\n",
       "      <td>60563.54</td>\n",
       "      <td>89540.23</td>\n",
       "      <td>390111.98</td>\n",
       "      <td>479652.21</td>\n",
       "      <td>2014</td>\n",
       "      <td>San Francisco</td>\n",
       "      <td>FT</td>\n",
       "    </tr>\n",
       "    <tr>\n",
       "      <th>2</th>\n",
       "      <td>110534</td>\n",
       "      <td>William J Coaker Jr.</td>\n",
       "      <td>Chief Investment Officer</td>\n",
       "      <td>257340.00</td>\n",
       "      <td>0.00</td>\n",
       "      <td>82313.70</td>\n",
       "      <td>96570.66</td>\n",
       "      <td>339653.70</td>\n",
       "      <td>436224.36</td>\n",
       "      <td>2014</td>\n",
       "      <td>San Francisco</td>\n",
       "      <td>PT</td>\n",
       "    </tr>\n",
       "    <tr>\n",
       "      <th>3</th>\n",
       "      <td>110535</td>\n",
       "      <td>Gregory P Suhr</td>\n",
       "      <td>Chief of Police</td>\n",
       "      <td>307450.04</td>\n",
       "      <td>0.00</td>\n",
       "      <td>19266.72</td>\n",
       "      <td>91302.46</td>\n",
       "      <td>326716.76</td>\n",
       "      <td>418019.22</td>\n",
       "      <td>2014</td>\n",
       "      <td>San Francisco</td>\n",
       "      <td>FT</td>\n",
       "    </tr>\n",
       "    <tr>\n",
       "      <th>4</th>\n",
       "      <td>110536</td>\n",
       "      <td>Joanne M Hayes-White</td>\n",
       "      <td>Chief, Fire Department</td>\n",
       "      <td>302068.00</td>\n",
       "      <td>0.00</td>\n",
       "      <td>24165.44</td>\n",
       "      <td>91201.66</td>\n",
       "      <td>326233.44</td>\n",
       "      <td>417435.10</td>\n",
       "      <td>2014</td>\n",
       "      <td>San Francisco</td>\n",
       "      <td>FT</td>\n",
       "    </tr>\n",
       "  </tbody>\n",
       "</table>\n",
       "</div>\n",
       "      <button class=\"colab-df-convert\" onclick=\"convertToInteractive('df-1b0914ac-6dea-4fbd-909c-d36600c2670c')\"\n",
       "              title=\"Convert this dataframe to an interactive table.\"\n",
       "              style=\"display:none;\">\n",
       "        \n",
       "  <svg xmlns=\"http://www.w3.org/2000/svg\" height=\"24px\"viewBox=\"0 0 24 24\"\n",
       "       width=\"24px\">\n",
       "    <path d=\"M0 0h24v24H0V0z\" fill=\"none\"/>\n",
       "    <path d=\"M18.56 5.44l.94 2.06.94-2.06 2.06-.94-2.06-.94-.94-2.06-.94 2.06-2.06.94zm-11 1L8.5 8.5l.94-2.06 2.06-.94-2.06-.94L8.5 2.5l-.94 2.06-2.06.94zm10 10l.94 2.06.94-2.06 2.06-.94-2.06-.94-.94-2.06-.94 2.06-2.06.94z\"/><path d=\"M17.41 7.96l-1.37-1.37c-.4-.4-.92-.59-1.43-.59-.52 0-1.04.2-1.43.59L10.3 9.45l-7.72 7.72c-.78.78-.78 2.05 0 2.83L4 21.41c.39.39.9.59 1.41.59.51 0 1.02-.2 1.41-.59l7.78-7.78 2.81-2.81c.8-.78.8-2.07 0-2.86zM5.41 20L4 18.59l7.72-7.72 1.47 1.35L5.41 20z\"/>\n",
       "  </svg>\n",
       "      </button>\n",
       "      \n",
       "  <style>\n",
       "    .colab-df-container {\n",
       "      display:flex;\n",
       "      flex-wrap:wrap;\n",
       "      gap: 12px;\n",
       "    }\n",
       "\n",
       "    .colab-df-convert {\n",
       "      background-color: #E8F0FE;\n",
       "      border: none;\n",
       "      border-radius: 50%;\n",
       "      cursor: pointer;\n",
       "      display: none;\n",
       "      fill: #1967D2;\n",
       "      height: 32px;\n",
       "      padding: 0 0 0 0;\n",
       "      width: 32px;\n",
       "    }\n",
       "\n",
       "    .colab-df-convert:hover {\n",
       "      background-color: #E2EBFA;\n",
       "      box-shadow: 0px 1px 2px rgba(60, 64, 67, 0.3), 0px 1px 3px 1px rgba(60, 64, 67, 0.15);\n",
       "      fill: #174EA6;\n",
       "    }\n",
       "\n",
       "    [theme=dark] .colab-df-convert {\n",
       "      background-color: #3B4455;\n",
       "      fill: #D2E3FC;\n",
       "    }\n",
       "\n",
       "    [theme=dark] .colab-df-convert:hover {\n",
       "      background-color: #434B5C;\n",
       "      box-shadow: 0px 1px 3px 1px rgba(0, 0, 0, 0.15);\n",
       "      filter: drop-shadow(0px 1px 2px rgba(0, 0, 0, 0.3));\n",
       "      fill: #FFFFFF;\n",
       "    }\n",
       "  </style>\n",
       "\n",
       "      <script>\n",
       "        const buttonEl =\n",
       "          document.querySelector('#df-1b0914ac-6dea-4fbd-909c-d36600c2670c button.colab-df-convert');\n",
       "        buttonEl.style.display =\n",
       "          google.colab.kernel.accessAllowed ? 'block' : 'none';\n",
       "\n",
       "        async function convertToInteractive(key) {\n",
       "          const element = document.querySelector('#df-1b0914ac-6dea-4fbd-909c-d36600c2670c');\n",
       "          const dataTable =\n",
       "            await google.colab.kernel.invokeFunction('convertToInteractive',\n",
       "                                                     [key], {});\n",
       "          if (!dataTable) return;\n",
       "\n",
       "          const docLinkHtml = 'Like what you see? Visit the ' +\n",
       "            '<a target=\"_blank\" href=https://colab.research.google.com/notebooks/data_table.ipynb>data table notebook</a>'\n",
       "            + ' to learn more about interactive tables.';\n",
       "          element.innerHTML = '';\n",
       "          dataTable['output_type'] = 'display_data';\n",
       "          await google.colab.output.renderOutput(dataTable, element);\n",
       "          const docLink = document.createElement('div');\n",
       "          docLink.innerHTML = docLinkHtml;\n",
       "          element.appendChild(docLink);\n",
       "        }\n",
       "      </script>\n",
       "    </div>\n",
       "  </div>\n",
       "  "
      ],
      "text/plain": [
       "       Id          EmployeeName                  JobTitle    BasePay  \\\n",
       "0  110532           David Shinn            Deputy Chief 3  129150.01   \n",
       "1  110533            Amy P Hart         Asst Med Examiner  318835.49   \n",
       "2  110534  William J Coaker Jr.  Chief Investment Officer  257340.00   \n",
       "3  110535        Gregory P Suhr           Chief of Police  307450.04   \n",
       "4  110536  Joanne M Hayes-White    Chief, Fire Department  302068.00   \n",
       "\n",
       "   OvertimePay   OtherPay  Benefits   TotalPay  TotalPayBenefits  Year  \\\n",
       "0         0.00  342802.63  38780.04  471952.64         510732.68  2014   \n",
       "1     10712.95   60563.54  89540.23  390111.98         479652.21  2014   \n",
       "2         0.00   82313.70  96570.66  339653.70         436224.36  2014   \n",
       "3         0.00   19266.72  91302.46  326716.76         418019.22  2014   \n",
       "4         0.00   24165.44  91201.66  326233.44         417435.10  2014   \n",
       "\n",
       "          Agency Status  \n",
       "0  San Francisco     PT  \n",
       "1  San Francisco     FT  \n",
       "2  San Francisco     PT  \n",
       "3  San Francisco     FT  \n",
       "4  San Francisco     FT  "
      ]
     },
     "execution_count": 15,
     "metadata": {},
     "output_type": "execute_result"
    }
   ],
   "source": []
  },
  {
   "cell_type": "markdown",
   "metadata": {
    "id": "2DNK_QLozSyF"
   },
   "source": [
    "Check out if \"TotalPayBenefits\" = \"BasePay\" + \"OvertimePay\" + \"OtherPay\" + \"Benefits\""
   ]
  },
  {
   "cell_type": "code",
   "execution_count": 47,
   "metadata": {},
   "outputs": [
    {
     "data": {
      "text/plain": [
       "0         True\n",
       "1        False\n",
       "2         True\n",
       "3        False\n",
       "4         True\n",
       "         ...  \n",
       "38114     True\n",
       "38115     True\n",
       "38116     True\n",
       "38117     True\n",
       "38118     True\n",
       "Length: 38119, dtype: bool"
      ]
     },
     "execution_count": 47,
     "metadata": {},
     "output_type": "execute_result"
    }
   ],
   "source": [
    "# Your code here\n",
    "df = pd.Series(data3[\"TotalPayBenefits\"] == (data3[\"BasePay\"] \n",
    "                                             + data3[\"OvertimePay\"] \n",
    "                                             + data3[\"OtherPay\"] + data3[\"Benefits\"]))\n",
    "df"
   ]
  },
  {
   "cell_type": "code",
   "execution_count": null,
   "metadata": {},
   "outputs": [],
   "source": []
  },
  {
   "cell_type": "code",
   "execution_count": 16,
   "metadata": {
    "colab": {
     "base_uri": "https://localhost:8080/"
    },
    "id": "XuydOtmBzSyF",
    "outputId": "83cd3939-89ec-4e36-dda8-ebb4b8e49013"
   },
   "outputs": [
    {
     "data": {
      "text/plain": [
       "0         True\n",
       "1        False\n",
       "2         True\n",
       "3        False\n",
       "4         True\n",
       "         ...  \n",
       "38114     True\n",
       "38115     True\n",
       "38116     True\n",
       "38117     True\n",
       "38118     True\n",
       "Length: 38119, dtype: bool"
      ]
     },
     "execution_count": 16,
     "metadata": {},
     "output_type": "execute_result"
    }
   ],
   "source": []
  },
  {
   "cell_type": "markdown",
   "metadata": {
    "id": "65AtoiMDzSyF"
   },
   "source": [
    "What is the percetage of employees for which the previous assumption is not True?"
   ]
  },
  {
   "cell_type": "code",
   "execution_count": 50,
   "metadata": {},
   "outputs": [
    {
     "data": {
      "text/plain": [
       "True     73.708649\n",
       "False    26.291351\n",
       "dtype: float64"
      ]
     },
     "execution_count": 50,
     "metadata": {},
     "output_type": "execute_result"
    }
   ],
   "source": [
    "# Your code here:\n",
    "df2= df.value_counts()/len(df)*100\n",
    "df2"
   ]
  },
  {
   "cell_type": "code",
   "execution_count": null,
   "metadata": {},
   "outputs": [],
   "source": []
  },
  {
   "cell_type": "code",
   "execution_count": 17,
   "metadata": {
    "colab": {
     "base_uri": "https://localhost:8080/"
    },
    "id": "WQSlyYKfzSyG",
    "outputId": "db98ca20-db17-4900-c441-896b1d3ae1de"
   },
   "outputs": [
    {
     "data": {
      "text/plain": [
       "True     73.708649\n",
       "False    26.291351\n",
       "dtype: float64"
      ]
     },
     "execution_count": 17,
     "metadata": {},
     "output_type": "execute_result"
    }
   ],
   "source": []
  },
  {
   "cell_type": "markdown",
   "metadata": {
    "id": "hxAKJ0grzSyG"
   },
   "source": [
    "There are different departments in the city. List all departments and the count of employees in each department."
   ]
  },
  {
   "cell_type": "code",
   "execution_count": 73,
   "metadata": {},
   "outputs": [
    {
     "data": {
      "text/html": [
       "<div>\n",
       "<style scoped>\n",
       "    .dataframe tbody tr th:only-of-type {\n",
       "        vertical-align: middle;\n",
       "    }\n",
       "\n",
       "    .dataframe tbody tr th {\n",
       "        vertical-align: top;\n",
       "    }\n",
       "\n",
       "    .dataframe thead tr th {\n",
       "        text-align: left;\n",
       "    }\n",
       "\n",
       "    .dataframe thead tr:last-of-type th {\n",
       "        text-align: right;\n",
       "    }\n",
       "</style>\n",
       "<table border=\"1\" class=\"dataframe\">\n",
       "  <thead>\n",
       "    <tr>\n",
       "      <th></th>\n",
       "      <th>Employees</th>\n",
       "    </tr>\n",
       "    <tr>\n",
       "      <th></th>\n",
       "      <th></th>\n",
       "    </tr>\n",
       "    <tr>\n",
       "      <th>JobTitle</th>\n",
       "      <th></th>\n",
       "    </tr>\n",
       "  </thead>\n",
       "  <tbody>\n",
       "    <tr>\n",
       "      <th>ACPO,JuvP, Juv Prob (SFERS)</th>\n",
       "      <td>1</td>\n",
       "    </tr>\n",
       "    <tr>\n",
       "      <th>ASR Senior Office Specialist</th>\n",
       "      <td>22</td>\n",
       "    </tr>\n",
       "    <tr>\n",
       "      <th>ASR-Office Assistant</th>\n",
       "      <td>15</td>\n",
       "    </tr>\n",
       "    <tr>\n",
       "      <th>Account Clerk</th>\n",
       "      <td>93</td>\n",
       "    </tr>\n",
       "    <tr>\n",
       "      <th>Accountant I</th>\n",
       "      <td>2</td>\n",
       "    </tr>\n",
       "    <tr>\n",
       "      <th>...</th>\n",
       "      <td>...</td>\n",
       "    </tr>\n",
       "    <tr>\n",
       "      <th>Wire Rope Cable Maint Sprv</th>\n",
       "      <td>1</td>\n",
       "    </tr>\n",
       "    <tr>\n",
       "      <th>Worker's Comp Supervisor 1</th>\n",
       "      <td>6</td>\n",
       "    </tr>\n",
       "    <tr>\n",
       "      <th>Worker's Compensation Adjuster</th>\n",
       "      <td>26</td>\n",
       "    </tr>\n",
       "    <tr>\n",
       "      <th>X-Ray Laboratory Aide</th>\n",
       "      <td>35</td>\n",
       "    </tr>\n",
       "    <tr>\n",
       "      <th>Youth Comm Advisor</th>\n",
       "      <td>1</td>\n",
       "    </tr>\n",
       "  </tbody>\n",
       "</table>\n",
       "<p>996 rows × 1 columns</p>\n",
       "</div>"
      ],
      "text/plain": [
       "                               Employees\n",
       "                                        \n",
       "JobTitle                                \n",
       "ACPO,JuvP, Juv Prob (SFERS)            1\n",
       "ASR Senior Office Specialist          22\n",
       "ASR-Office Assistant                  15\n",
       "Account Clerk                         93\n",
       "Accountant I                           2\n",
       "...                                  ...\n",
       "Wire Rope Cable Maint Sprv             1\n",
       "Worker's Comp Supervisor 1             6\n",
       "Worker's Compensation Adjuster        26\n",
       "X-Ray Laboratory Aide                 35\n",
       "Youth Comm Advisor                     1\n",
       "\n",
       "[996 rows x 1 columns]"
      ]
     },
     "execution_count": 73,
     "metadata": {},
     "output_type": "execute_result"
    }
   ],
   "source": [
    "# Your code here:\n",
    "df3 = data3.groupby('JobTitle').agg({'EmployeeName' :['count']})\n",
    "df3 = df3.rename(columns={'EmployeeName': 'Employees'}, level=0)\n",
    "df3 = df3.rename(columns={'count': ' '}, level=1)\n",
    "\n",
    "df3"
   ]
  },
  {
   "cell_type": "code",
   "execution_count": null,
   "metadata": {},
   "outputs": [],
   "source": []
  },
  {
   "cell_type": "code",
   "execution_count": 18,
   "metadata": {
    "colab": {
     "base_uri": "https://localhost:8080/",
     "height": 455
    },
    "id": "rIP5w8uqzSyG",
    "outputId": "792a6c68-1553-489f-b021-6a1f1eb2fc75",
    "scrolled": true
   },
   "outputs": [
    {
     "data": {
      "text/html": [
       "\n",
       "  <div id=\"df-cd6693c4-91a8-4d96-8478-ee35636febaf\">\n",
       "    <div class=\"colab-df-container\">\n",
       "      <div>\n",
       "<style scoped>\n",
       "    .dataframe tbody tr th:only-of-type {\n",
       "        vertical-align: middle;\n",
       "    }\n",
       "\n",
       "    .dataframe tbody tr th {\n",
       "        vertical-align: top;\n",
       "    }\n",
       "\n",
       "    .dataframe thead th {\n",
       "        text-align: right;\n",
       "    }\n",
       "</style>\n",
       "<table border=\"1\" class=\"dataframe\">\n",
       "  <thead>\n",
       "    <tr style=\"text-align: right;\">\n",
       "      <th></th>\n",
       "      <th>Employees</th>\n",
       "    </tr>\n",
       "    <tr>\n",
       "      <th>JobTitle</th>\n",
       "      <th></th>\n",
       "    </tr>\n",
       "  </thead>\n",
       "  <tbody>\n",
       "    <tr>\n",
       "      <th>ACPO,JuvP, Juv Prob (SFERS)</th>\n",
       "      <td>1</td>\n",
       "    </tr>\n",
       "    <tr>\n",
       "      <th>ASR Senior Office Specialist</th>\n",
       "      <td>22</td>\n",
       "    </tr>\n",
       "    <tr>\n",
       "      <th>ASR-Office Assistant</th>\n",
       "      <td>15</td>\n",
       "    </tr>\n",
       "    <tr>\n",
       "      <th>Account Clerk</th>\n",
       "      <td>93</td>\n",
       "    </tr>\n",
       "    <tr>\n",
       "      <th>Accountant I</th>\n",
       "      <td>2</td>\n",
       "    </tr>\n",
       "    <tr>\n",
       "      <th>...</th>\n",
       "      <td>...</td>\n",
       "    </tr>\n",
       "    <tr>\n",
       "      <th>Wire Rope Cable Maint Sprv</th>\n",
       "      <td>1</td>\n",
       "    </tr>\n",
       "    <tr>\n",
       "      <th>Worker's Comp Supervisor 1</th>\n",
       "      <td>6</td>\n",
       "    </tr>\n",
       "    <tr>\n",
       "      <th>Worker's Compensation Adjuster</th>\n",
       "      <td>26</td>\n",
       "    </tr>\n",
       "    <tr>\n",
       "      <th>X-Ray Laboratory Aide</th>\n",
       "      <td>35</td>\n",
       "    </tr>\n",
       "    <tr>\n",
       "      <th>Youth Comm Advisor</th>\n",
       "      <td>1</td>\n",
       "    </tr>\n",
       "  </tbody>\n",
       "</table>\n",
       "<p>996 rows × 1 columns</p>\n",
       "</div>\n",
       "      <button class=\"colab-df-convert\" onclick=\"convertToInteractive('df-cd6693c4-91a8-4d96-8478-ee35636febaf')\"\n",
       "              title=\"Convert this dataframe to an interactive table.\"\n",
       "              style=\"display:none;\">\n",
       "        \n",
       "  <svg xmlns=\"http://www.w3.org/2000/svg\" height=\"24px\"viewBox=\"0 0 24 24\"\n",
       "       width=\"24px\">\n",
       "    <path d=\"M0 0h24v24H0V0z\" fill=\"none\"/>\n",
       "    <path d=\"M18.56 5.44l.94 2.06.94-2.06 2.06-.94-2.06-.94-.94-2.06-.94 2.06-2.06.94zm-11 1L8.5 8.5l.94-2.06 2.06-.94-2.06-.94L8.5 2.5l-.94 2.06-2.06.94zm10 10l.94 2.06.94-2.06 2.06-.94-2.06-.94-.94-2.06-.94 2.06-2.06.94z\"/><path d=\"M17.41 7.96l-1.37-1.37c-.4-.4-.92-.59-1.43-.59-.52 0-1.04.2-1.43.59L10.3 9.45l-7.72 7.72c-.78.78-.78 2.05 0 2.83L4 21.41c.39.39.9.59 1.41.59.51 0 1.02-.2 1.41-.59l7.78-7.78 2.81-2.81c.8-.78.8-2.07 0-2.86zM5.41 20L4 18.59l7.72-7.72 1.47 1.35L5.41 20z\"/>\n",
       "  </svg>\n",
       "      </button>\n",
       "      \n",
       "  <style>\n",
       "    .colab-df-container {\n",
       "      display:flex;\n",
       "      flex-wrap:wrap;\n",
       "      gap: 12px;\n",
       "    }\n",
       "\n",
       "    .colab-df-convert {\n",
       "      background-color: #E8F0FE;\n",
       "      border: none;\n",
       "      border-radius: 50%;\n",
       "      cursor: pointer;\n",
       "      display: none;\n",
       "      fill: #1967D2;\n",
       "      height: 32px;\n",
       "      padding: 0 0 0 0;\n",
       "      width: 32px;\n",
       "    }\n",
       "\n",
       "    .colab-df-convert:hover {\n",
       "      background-color: #E2EBFA;\n",
       "      box-shadow: 0px 1px 2px rgba(60, 64, 67, 0.3), 0px 1px 3px 1px rgba(60, 64, 67, 0.15);\n",
       "      fill: #174EA6;\n",
       "    }\n",
       "\n",
       "    [theme=dark] .colab-df-convert {\n",
       "      background-color: #3B4455;\n",
       "      fill: #D2E3FC;\n",
       "    }\n",
       "\n",
       "    [theme=dark] .colab-df-convert:hover {\n",
       "      background-color: #434B5C;\n",
       "      box-shadow: 0px 1px 3px 1px rgba(0, 0, 0, 0.15);\n",
       "      filter: drop-shadow(0px 1px 2px rgba(0, 0, 0, 0.3));\n",
       "      fill: #FFFFFF;\n",
       "    }\n",
       "  </style>\n",
       "\n",
       "      <script>\n",
       "        const buttonEl =\n",
       "          document.querySelector('#df-cd6693c4-91a8-4d96-8478-ee35636febaf button.colab-df-convert');\n",
       "        buttonEl.style.display =\n",
       "          google.colab.kernel.accessAllowed ? 'block' : 'none';\n",
       "\n",
       "        async function convertToInteractive(key) {\n",
       "          const element = document.querySelector('#df-cd6693c4-91a8-4d96-8478-ee35636febaf');\n",
       "          const dataTable =\n",
       "            await google.colab.kernel.invokeFunction('convertToInteractive',\n",
       "                                                     [key], {});\n",
       "          if (!dataTable) return;\n",
       "\n",
       "          const docLinkHtml = 'Like what you see? Visit the ' +\n",
       "            '<a target=\"_blank\" href=https://colab.research.google.com/notebooks/data_table.ipynb>data table notebook</a>'\n",
       "            + ' to learn more about interactive tables.';\n",
       "          element.innerHTML = '';\n",
       "          dataTable['output_type'] = 'display_data';\n",
       "          await google.colab.output.renderOutput(dataTable, element);\n",
       "          const docLink = document.createElement('div');\n",
       "          docLink.innerHTML = docLinkHtml;\n",
       "          element.appendChild(docLink);\n",
       "        }\n",
       "      </script>\n",
       "    </div>\n",
       "  </div>\n",
       "  "
      ],
      "text/plain": [
       "                                Employees\n",
       "JobTitle                                 \n",
       "ACPO,JuvP, Juv Prob (SFERS)             1\n",
       "ASR Senior Office Specialist           22\n",
       "ASR-Office Assistant                   15\n",
       "Account Clerk                          93\n",
       "Accountant I                            2\n",
       "...                                   ...\n",
       "Wire Rope Cable Maint Sprv              1\n",
       "Worker's Comp Supervisor 1              6\n",
       "Worker's Compensation Adjuster         26\n",
       "X-Ray Laboratory Aide                  35\n",
       "Youth Comm Advisor                      1\n",
       "\n",
       "[996 rows x 1 columns]"
      ]
     },
     "execution_count": 18,
     "metadata": {},
     "output_type": "execute_result"
    }
   ],
   "source": []
  },
  {
   "cell_type": "markdown",
   "metadata": {
    "id": "eBkEuDaLzSyG"
   },
   "source": [
    "# Challenge 2 - Hypothesis Tests\n",
    "\n",
    "In this section of the lab, we will test whether the hourly wage of **all FT workers is significantly different from $75/hr**. Get first the hourly wage by dividing \"TotalPayBenefits\" by 50 weeks (assuming 10 labour days of holidays) and by 40hrs (assuming a 40hrs week).\n",
    "\n",
    "$$Hourly Wage = \\frac{TotalPayBenefits}{1 year}\\frac{1 year}{50 Week}\\frac{1 Week}{40 hr}$$\n",
    "\n",
    "Import the correct one sample test function from scipy and perform the hypothesis test for a 95% two sided confidence interval."
   ]
  },
  {
   "cell_type": "code",
   "execution_count": 75,
   "metadata": {},
   "outputs": [
    {
     "data": {
      "text/html": [
       "<div>\n",
       "<style scoped>\n",
       "    .dataframe tbody tr th:only-of-type {\n",
       "        vertical-align: middle;\n",
       "    }\n",
       "\n",
       "    .dataframe tbody tr th {\n",
       "        vertical-align: top;\n",
       "    }\n",
       "\n",
       "    .dataframe thead th {\n",
       "        text-align: right;\n",
       "    }\n",
       "</style>\n",
       "<table border=\"1\" class=\"dataframe\">\n",
       "  <thead>\n",
       "    <tr style=\"text-align: right;\">\n",
       "      <th></th>\n",
       "      <th>index</th>\n",
       "      <th>Id</th>\n",
       "      <th>EmployeeName</th>\n",
       "      <th>JobTitle</th>\n",
       "      <th>BasePay</th>\n",
       "      <th>OvertimePay</th>\n",
       "      <th>OtherPay</th>\n",
       "      <th>Benefits</th>\n",
       "      <th>TotalPay</th>\n",
       "      <th>TotalPayBenefits</th>\n",
       "      <th>Year</th>\n",
       "      <th>Agency</th>\n",
       "      <th>Status</th>\n",
       "    </tr>\n",
       "  </thead>\n",
       "  <tbody>\n",
       "    <tr>\n",
       "      <th>0</th>\n",
       "      <td>110531</td>\n",
       "      <td>110532</td>\n",
       "      <td>David Shinn</td>\n",
       "      <td>Deputy Chief 3</td>\n",
       "      <td>129150.01</td>\n",
       "      <td>0.00</td>\n",
       "      <td>342802.63</td>\n",
       "      <td>38780.04</td>\n",
       "      <td>471952.64</td>\n",
       "      <td>510732.68</td>\n",
       "      <td>2014</td>\n",
       "      <td>San Francisco</td>\n",
       "      <td>PT</td>\n",
       "    </tr>\n",
       "    <tr>\n",
       "      <th>1</th>\n",
       "      <td>110532</td>\n",
       "      <td>110533</td>\n",
       "      <td>Amy P Hart</td>\n",
       "      <td>Asst Med Examiner</td>\n",
       "      <td>318835.49</td>\n",
       "      <td>10712.95</td>\n",
       "      <td>60563.54</td>\n",
       "      <td>89540.23</td>\n",
       "      <td>390111.98</td>\n",
       "      <td>479652.21</td>\n",
       "      <td>2014</td>\n",
       "      <td>San Francisco</td>\n",
       "      <td>FT</td>\n",
       "    </tr>\n",
       "  </tbody>\n",
       "</table>\n",
       "</div>"
      ],
      "text/plain": [
       "    index      Id EmployeeName           JobTitle    BasePay  OvertimePay  \\\n",
       "0  110531  110532  David Shinn     Deputy Chief 3  129150.01         0.00   \n",
       "1  110532  110533   Amy P Hart  Asst Med Examiner  318835.49     10712.95   \n",
       "\n",
       "    OtherPay  Benefits   TotalPay  TotalPayBenefits  Year         Agency  \\\n",
       "0  342802.63  38780.04  471952.64         510732.68  2014  San Francisco   \n",
       "1   60563.54  89540.23  390111.98         479652.21  2014  San Francisco   \n",
       "\n",
       "  Status  \n",
       "0     PT  \n",
       "1     FT  "
      ]
     },
     "execution_count": 75,
     "metadata": {},
     "output_type": "execute_result"
    }
   ],
   "source": [
    "data3.head(2)"
   ]
  },
  {
   "cell_type": "code",
   "execution_count": 79,
   "metadata": {},
   "outputs": [
    {
     "data": {
      "text/html": [
       "<div>\n",
       "<style scoped>\n",
       "    .dataframe tbody tr th:only-of-type {\n",
       "        vertical-align: middle;\n",
       "    }\n",
       "\n",
       "    .dataframe tbody tr th {\n",
       "        vertical-align: top;\n",
       "    }\n",
       "\n",
       "    .dataframe thead th {\n",
       "        text-align: right;\n",
       "    }\n",
       "</style>\n",
       "<table border=\"1\" class=\"dataframe\">\n",
       "  <thead>\n",
       "    <tr style=\"text-align: right;\">\n",
       "      <th></th>\n",
       "      <th>index</th>\n",
       "      <th>Id</th>\n",
       "      <th>EmployeeName</th>\n",
       "      <th>JobTitle</th>\n",
       "      <th>BasePay</th>\n",
       "      <th>OvertimePay</th>\n",
       "      <th>OtherPay</th>\n",
       "      <th>Benefits</th>\n",
       "      <th>TotalPay</th>\n",
       "      <th>TotalPayBenefits</th>\n",
       "      <th>Year</th>\n",
       "      <th>Agency</th>\n",
       "      <th>Status</th>\n",
       "      <th>Hourly_Wage</th>\n",
       "    </tr>\n",
       "  </thead>\n",
       "  <tbody>\n",
       "    <tr>\n",
       "      <th>0</th>\n",
       "      <td>110531</td>\n",
       "      <td>110532</td>\n",
       "      <td>David Shinn</td>\n",
       "      <td>Deputy Chief 3</td>\n",
       "      <td>129150.01</td>\n",
       "      <td>0.00</td>\n",
       "      <td>342802.63</td>\n",
       "      <td>38780.04</td>\n",
       "      <td>471952.64</td>\n",
       "      <td>510732.68</td>\n",
       "      <td>2014</td>\n",
       "      <td>San Francisco</td>\n",
       "      <td>PT</td>\n",
       "      <td>255.366340</td>\n",
       "    </tr>\n",
       "    <tr>\n",
       "      <th>1</th>\n",
       "      <td>110532</td>\n",
       "      <td>110533</td>\n",
       "      <td>Amy P Hart</td>\n",
       "      <td>Asst Med Examiner</td>\n",
       "      <td>318835.49</td>\n",
       "      <td>10712.95</td>\n",
       "      <td>60563.54</td>\n",
       "      <td>89540.23</td>\n",
       "      <td>390111.98</td>\n",
       "      <td>479652.21</td>\n",
       "      <td>2014</td>\n",
       "      <td>San Francisco</td>\n",
       "      <td>FT</td>\n",
       "      <td>239.826105</td>\n",
       "    </tr>\n",
       "    <tr>\n",
       "      <th>2</th>\n",
       "      <td>110533</td>\n",
       "      <td>110534</td>\n",
       "      <td>William J Coaker Jr.</td>\n",
       "      <td>Chief Investment Officer</td>\n",
       "      <td>257340.00</td>\n",
       "      <td>0.00</td>\n",
       "      <td>82313.70</td>\n",
       "      <td>96570.66</td>\n",
       "      <td>339653.70</td>\n",
       "      <td>436224.36</td>\n",
       "      <td>2014</td>\n",
       "      <td>San Francisco</td>\n",
       "      <td>PT</td>\n",
       "      <td>218.112180</td>\n",
       "    </tr>\n",
       "    <tr>\n",
       "      <th>3</th>\n",
       "      <td>110534</td>\n",
       "      <td>110535</td>\n",
       "      <td>Gregory P Suhr</td>\n",
       "      <td>Chief of Police</td>\n",
       "      <td>307450.04</td>\n",
       "      <td>0.00</td>\n",
       "      <td>19266.72</td>\n",
       "      <td>91302.46</td>\n",
       "      <td>326716.76</td>\n",
       "      <td>418019.22</td>\n",
       "      <td>2014</td>\n",
       "      <td>San Francisco</td>\n",
       "      <td>FT</td>\n",
       "      <td>209.009610</td>\n",
       "    </tr>\n",
       "    <tr>\n",
       "      <th>4</th>\n",
       "      <td>110535</td>\n",
       "      <td>110536</td>\n",
       "      <td>Joanne M Hayes-White</td>\n",
       "      <td>Chief, Fire Department</td>\n",
       "      <td>302068.00</td>\n",
       "      <td>0.00</td>\n",
       "      <td>24165.44</td>\n",
       "      <td>91201.66</td>\n",
       "      <td>326233.44</td>\n",
       "      <td>417435.10</td>\n",
       "      <td>2014</td>\n",
       "      <td>San Francisco</td>\n",
       "      <td>FT</td>\n",
       "      <td>208.717550</td>\n",
       "    </tr>\n",
       "  </tbody>\n",
       "</table>\n",
       "</div>"
      ],
      "text/plain": [
       "    index      Id          EmployeeName                  JobTitle    BasePay  \\\n",
       "0  110531  110532           David Shinn            Deputy Chief 3  129150.01   \n",
       "1  110532  110533            Amy P Hart         Asst Med Examiner  318835.49   \n",
       "2  110533  110534  William J Coaker Jr.  Chief Investment Officer  257340.00   \n",
       "3  110534  110535        Gregory P Suhr           Chief of Police  307450.04   \n",
       "4  110535  110536  Joanne M Hayes-White    Chief, Fire Department  302068.00   \n",
       "\n",
       "   OvertimePay   OtherPay  Benefits   TotalPay  TotalPayBenefits  Year  \\\n",
       "0         0.00  342802.63  38780.04  471952.64         510732.68  2014   \n",
       "1     10712.95   60563.54  89540.23  390111.98         479652.21  2014   \n",
       "2         0.00   82313.70  96570.66  339653.70         436224.36  2014   \n",
       "3         0.00   19266.72  91302.46  326716.76         418019.22  2014   \n",
       "4         0.00   24165.44  91201.66  326233.44         417435.10  2014   \n",
       "\n",
       "          Agency Status  Hourly_Wage  \n",
       "0  San Francisco     PT   255.366340  \n",
       "1  San Francisco     FT   239.826105  \n",
       "2  San Francisco     PT   218.112180  \n",
       "3  San Francisco     FT   209.009610  \n",
       "4  San Francisco     FT   208.717550  "
      ]
     },
     "execution_count": 79,
     "metadata": {},
     "output_type": "execute_result"
    }
   ],
   "source": [
    "# Your code here: (compute the \"Hourly_Wage\")\n",
    "data4 = data3.copy()\n",
    "data4['Hourly_Wage'] = data4['TotalPayBenefits']/50/40\n",
    "data4.head()"
   ]
  },
  {
   "cell_type": "code",
   "execution_count": 19,
   "metadata": {
    "colab": {
     "base_uri": "https://localhost:8080/",
     "height": 374
    },
    "id": "ELuWVlkczSyH",
    "outputId": "1acd9c1f-b72c-475a-f1fe-f17450539be3"
   },
   "outputs": [
    {
     "data": {
      "text/html": [
       "\n",
       "  <div id=\"df-4502a61b-7f7a-4b10-8ba4-c595bf5a9e8f\">\n",
       "    <div class=\"colab-df-container\">\n",
       "      <div>\n",
       "<style scoped>\n",
       "    .dataframe tbody tr th:only-of-type {\n",
       "        vertical-align: middle;\n",
       "    }\n",
       "\n",
       "    .dataframe tbody tr th {\n",
       "        vertical-align: top;\n",
       "    }\n",
       "\n",
       "    .dataframe thead th {\n",
       "        text-align: right;\n",
       "    }\n",
       "</style>\n",
       "<table border=\"1\" class=\"dataframe\">\n",
       "  <thead>\n",
       "    <tr style=\"text-align: right;\">\n",
       "      <th></th>\n",
       "      <th>Id</th>\n",
       "      <th>EmployeeName</th>\n",
       "      <th>JobTitle</th>\n",
       "      <th>BasePay</th>\n",
       "      <th>OvertimePay</th>\n",
       "      <th>OtherPay</th>\n",
       "      <th>Benefits</th>\n",
       "      <th>TotalPay</th>\n",
       "      <th>TotalPayBenefits</th>\n",
       "      <th>Year</th>\n",
       "      <th>Agency</th>\n",
       "      <th>Status</th>\n",
       "      <th>Hourly_Wage</th>\n",
       "    </tr>\n",
       "  </thead>\n",
       "  <tbody>\n",
       "    <tr>\n",
       "      <th>0</th>\n",
       "      <td>110532</td>\n",
       "      <td>David Shinn</td>\n",
       "      <td>Deputy Chief 3</td>\n",
       "      <td>129150.01</td>\n",
       "      <td>0.00</td>\n",
       "      <td>342802.63</td>\n",
       "      <td>38780.04</td>\n",
       "      <td>471952.64</td>\n",
       "      <td>510732.68</td>\n",
       "      <td>2014</td>\n",
       "      <td>San Francisco</td>\n",
       "      <td>PT</td>\n",
       "      <td>255.366340</td>\n",
       "    </tr>\n",
       "    <tr>\n",
       "      <th>1</th>\n",
       "      <td>110533</td>\n",
       "      <td>Amy P Hart</td>\n",
       "      <td>Asst Med Examiner</td>\n",
       "      <td>318835.49</td>\n",
       "      <td>10712.95</td>\n",
       "      <td>60563.54</td>\n",
       "      <td>89540.23</td>\n",
       "      <td>390111.98</td>\n",
       "      <td>479652.21</td>\n",
       "      <td>2014</td>\n",
       "      <td>San Francisco</td>\n",
       "      <td>FT</td>\n",
       "      <td>239.826105</td>\n",
       "    </tr>\n",
       "    <tr>\n",
       "      <th>2</th>\n",
       "      <td>110534</td>\n",
       "      <td>William J Coaker Jr.</td>\n",
       "      <td>Chief Investment Officer</td>\n",
       "      <td>257340.00</td>\n",
       "      <td>0.00</td>\n",
       "      <td>82313.70</td>\n",
       "      <td>96570.66</td>\n",
       "      <td>339653.70</td>\n",
       "      <td>436224.36</td>\n",
       "      <td>2014</td>\n",
       "      <td>San Francisco</td>\n",
       "      <td>PT</td>\n",
       "      <td>218.112180</td>\n",
       "    </tr>\n",
       "    <tr>\n",
       "      <th>3</th>\n",
       "      <td>110535</td>\n",
       "      <td>Gregory P Suhr</td>\n",
       "      <td>Chief of Police</td>\n",
       "      <td>307450.04</td>\n",
       "      <td>0.00</td>\n",
       "      <td>19266.72</td>\n",
       "      <td>91302.46</td>\n",
       "      <td>326716.76</td>\n",
       "      <td>418019.22</td>\n",
       "      <td>2014</td>\n",
       "      <td>San Francisco</td>\n",
       "      <td>FT</td>\n",
       "      <td>209.009610</td>\n",
       "    </tr>\n",
       "    <tr>\n",
       "      <th>4</th>\n",
       "      <td>110536</td>\n",
       "      <td>Joanne M Hayes-White</td>\n",
       "      <td>Chief, Fire Department</td>\n",
       "      <td>302068.00</td>\n",
       "      <td>0.00</td>\n",
       "      <td>24165.44</td>\n",
       "      <td>91201.66</td>\n",
       "      <td>326233.44</td>\n",
       "      <td>417435.10</td>\n",
       "      <td>2014</td>\n",
       "      <td>San Francisco</td>\n",
       "      <td>FT</td>\n",
       "      <td>208.717550</td>\n",
       "    </tr>\n",
       "  </tbody>\n",
       "</table>\n",
       "</div>\n",
       "      <button class=\"colab-df-convert\" onclick=\"convertToInteractive('df-4502a61b-7f7a-4b10-8ba4-c595bf5a9e8f')\"\n",
       "              title=\"Convert this dataframe to an interactive table.\"\n",
       "              style=\"display:none;\">\n",
       "        \n",
       "  <svg xmlns=\"http://www.w3.org/2000/svg\" height=\"24px\"viewBox=\"0 0 24 24\"\n",
       "       width=\"24px\">\n",
       "    <path d=\"M0 0h24v24H0V0z\" fill=\"none\"/>\n",
       "    <path d=\"M18.56 5.44l.94 2.06.94-2.06 2.06-.94-2.06-.94-.94-2.06-.94 2.06-2.06.94zm-11 1L8.5 8.5l.94-2.06 2.06-.94-2.06-.94L8.5 2.5l-.94 2.06-2.06.94zm10 10l.94 2.06.94-2.06 2.06-.94-2.06-.94-.94-2.06-.94 2.06-2.06.94z\"/><path d=\"M17.41 7.96l-1.37-1.37c-.4-.4-.92-.59-1.43-.59-.52 0-1.04.2-1.43.59L10.3 9.45l-7.72 7.72c-.78.78-.78 2.05 0 2.83L4 21.41c.39.39.9.59 1.41.59.51 0 1.02-.2 1.41-.59l7.78-7.78 2.81-2.81c.8-.78.8-2.07 0-2.86zM5.41 20L4 18.59l7.72-7.72 1.47 1.35L5.41 20z\"/>\n",
       "  </svg>\n",
       "      </button>\n",
       "      \n",
       "  <style>\n",
       "    .colab-df-container {\n",
       "      display:flex;\n",
       "      flex-wrap:wrap;\n",
       "      gap: 12px;\n",
       "    }\n",
       "\n",
       "    .colab-df-convert {\n",
       "      background-color: #E8F0FE;\n",
       "      border: none;\n",
       "      border-radius: 50%;\n",
       "      cursor: pointer;\n",
       "      display: none;\n",
       "      fill: #1967D2;\n",
       "      height: 32px;\n",
       "      padding: 0 0 0 0;\n",
       "      width: 32px;\n",
       "    }\n",
       "\n",
       "    .colab-df-convert:hover {\n",
       "      background-color: #E2EBFA;\n",
       "      box-shadow: 0px 1px 2px rgba(60, 64, 67, 0.3), 0px 1px 3px 1px rgba(60, 64, 67, 0.15);\n",
       "      fill: #174EA6;\n",
       "    }\n",
       "\n",
       "    [theme=dark] .colab-df-convert {\n",
       "      background-color: #3B4455;\n",
       "      fill: #D2E3FC;\n",
       "    }\n",
       "\n",
       "    [theme=dark] .colab-df-convert:hover {\n",
       "      background-color: #434B5C;\n",
       "      box-shadow: 0px 1px 3px 1px rgba(0, 0, 0, 0.15);\n",
       "      filter: drop-shadow(0px 1px 2px rgba(0, 0, 0, 0.3));\n",
       "      fill: #FFFFFF;\n",
       "    }\n",
       "  </style>\n",
       "\n",
       "      <script>\n",
       "        const buttonEl =\n",
       "          document.querySelector('#df-4502a61b-7f7a-4b10-8ba4-c595bf5a9e8f button.colab-df-convert');\n",
       "        buttonEl.style.display =\n",
       "          google.colab.kernel.accessAllowed ? 'block' : 'none';\n",
       "\n",
       "        async function convertToInteractive(key) {\n",
       "          const element = document.querySelector('#df-4502a61b-7f7a-4b10-8ba4-c595bf5a9e8f');\n",
       "          const dataTable =\n",
       "            await google.colab.kernel.invokeFunction('convertToInteractive',\n",
       "                                                     [key], {});\n",
       "          if (!dataTable) return;\n",
       "\n",
       "          const docLinkHtml = 'Like what you see? Visit the ' +\n",
       "            '<a target=\"_blank\" href=https://colab.research.google.com/notebooks/data_table.ipynb>data table notebook</a>'\n",
       "            + ' to learn more about interactive tables.';\n",
       "          element.innerHTML = '';\n",
       "          dataTable['output_type'] = 'display_data';\n",
       "          await google.colab.output.renderOutput(dataTable, element);\n",
       "          const docLink = document.createElement('div');\n",
       "          docLink.innerHTML = docLinkHtml;\n",
       "          element.appendChild(docLink);\n",
       "        }\n",
       "      </script>\n",
       "    </div>\n",
       "  </div>\n",
       "  "
      ],
      "text/plain": [
       "       Id          EmployeeName                  JobTitle    BasePay  \\\n",
       "0  110532           David Shinn            Deputy Chief 3  129150.01   \n",
       "1  110533            Amy P Hart         Asst Med Examiner  318835.49   \n",
       "2  110534  William J Coaker Jr.  Chief Investment Officer  257340.00   \n",
       "3  110535        Gregory P Suhr           Chief of Police  307450.04   \n",
       "4  110536  Joanne M Hayes-White    Chief, Fire Department  302068.00   \n",
       "\n",
       "   OvertimePay   OtherPay  Benefits   TotalPay  TotalPayBenefits  Year  \\\n",
       "0         0.00  342802.63  38780.04  471952.64         510732.68  2014   \n",
       "1     10712.95   60563.54  89540.23  390111.98         479652.21  2014   \n",
       "2         0.00   82313.70  96570.66  339653.70         436224.36  2014   \n",
       "3         0.00   19266.72  91302.46  326716.76         418019.22  2014   \n",
       "4         0.00   24165.44  91201.66  326233.44         417435.10  2014   \n",
       "\n",
       "          Agency Status  Hourly_Wage  \n",
       "0  San Francisco     PT   255.366340  \n",
       "1  San Francisco     FT   239.826105  \n",
       "2  San Francisco     PT   218.112180  \n",
       "3  San Francisco     FT   209.009610  \n",
       "4  San Francisco     FT   208.717550  "
      ]
     },
     "execution_count": 19,
     "metadata": {},
     "output_type": "execute_result"
    }
   ],
   "source": []
  },
  {
   "cell_type": "code",
   "execution_count": null,
   "metadata": {},
   "outputs": [],
   "source": [
    "# Your code here: (Compute the mean hourly wage for all the \"FT\" employees)"
   ]
  },
  {
   "cell_type": "code",
   "execution_count": 87,
   "metadata": {},
   "outputs": [
    {
     "data": {
      "text/plain": [
       "69.264206407271"
      ]
     },
     "execution_count": 87,
     "metadata": {},
     "output_type": "execute_result"
    }
   ],
   "source": [
    "data5 = data4.copy()\n",
    "\n",
    "data5 = data5[data5['Status'] == 'FT' ]\n",
    "data5['Hourly_Wage'].mean()"
   ]
  },
  {
   "cell_type": "code",
   "execution_count": 20,
   "metadata": {
    "colab": {
     "base_uri": "https://localhost:8080/"
    },
    "id": "HZLcwczBzSyH",
    "outputId": "4f607da2-4d79-48cf-d176-f85c64df2848"
   },
   "outputs": [
    {
     "data": {
      "text/plain": [
       "69.264206407271"
      ]
     },
     "execution_count": 20,
     "metadata": {},
     "output_type": "execute_result"
    }
   ],
   "source": []
  },
  {
   "cell_type": "code",
   "execution_count": 92,
   "metadata": {},
   "outputs": [
    {
     "data": {
      "text/plain": [
       "-35.80631941460788"
      ]
     },
     "execution_count": 92,
     "metadata": {},
     "output_type": "execute_result"
    }
   ],
   "source": [
    "# Your code here: (compute the t_statistic). Take into account that this dataset is a sample of a real population.\n",
    "# Remember that you only need to consider \"FT\" employees\n",
    "import scipy.stats as st\n",
    "Hourly_Wage = data5['Hourly_Wage']\n",
    "sample_mean = Hourly_Wage.mean()\n",
    "sample_std = Hourly_Wage.std()\n",
    "sample_size = len(Hourly_Wage)\n",
    "Population_mean = 75\n",
    "\n",
    "t_statistic = (sample_mean - Population_mean) /(sample_std / np.sqrt(sample_size))\n",
    "t_statistic\n"
   ]
  },
  {
   "cell_type": "code",
   "execution_count": null,
   "metadata": {},
   "outputs": [],
   "source": []
  },
  {
   "cell_type": "code",
   "execution_count": 21,
   "metadata": {
    "colab": {
     "base_uri": "https://localhost:8080/"
    },
    "id": "zTcooP57zSyH",
    "outputId": "55834a56-23e4-40f0-8e83-56a40e8eb268"
   },
   "outputs": [
    {
     "data": {
      "text/plain": [
       "-35.80631941460788"
      ]
     },
     "execution_count": 21,
     "metadata": {},
     "output_type": "execute_result"
    }
   ],
   "source": []
  },
  {
   "cell_type": "code",
   "execution_count": 102,
   "metadata": {},
   "outputs": [
    {
     "data": {
      "text/plain": [
       "'The lower critical value is -1.960'"
      ]
     },
     "metadata": {},
     "output_type": "display_data"
    },
    {
     "data": {
      "text/plain": [
       "'The upper critical value is 1.960'"
      ]
     },
     "metadata": {},
     "output_type": "display_data"
    }
   ],
   "source": [
    "# Method 1: Critical value. Get the critical value and compare it against your statisttic.\n",
    "# Your code here: \n",
    "lower_critical_value = st.t.ppf((0.05/2),df=len(Hourly_Wage)-1)\n",
    "upper_critical_value = st.t.ppf(1-(0.05/2), df=len(Hourly_Wage)-1)\n",
    "display(\"The lower critical value is {:.3f}\".format(lower_critical_value))\n",
    "display(\"The upper critical value is {:.3f}\".format(upper_critical_value))"
   ]
  },
  {
   "cell_type": "code",
   "execution_count": null,
   "metadata": {
    "colab": {
     "base_uri": "https://localhost:8080/"
    },
    "id": "uel9UMe2zSyH",
    "outputId": "34d5376a-3e12-49c4-a8e8-85210c27e96a",
    "scrolled": true
   },
   "outputs": [],
   "source": []
  },
  {
   "cell_type": "code",
   "execution_count": 104,
   "metadata": {},
   "outputs": [
    {
     "data": {
      "text/plain": [
       "2.2589156167195097e-273"
      ]
     },
     "execution_count": 104,
     "metadata": {},
     "output_type": "execute_result"
    }
   ],
   "source": [
    "# Method 2: Use the p-value method.\n",
    "# Your code here:\n",
    "st.t.cdf(t_statistic, df=len(Hourly_Wage)-1)"
   ]
  },
  {
   "cell_type": "code",
   "execution_count": null,
   "metadata": {
    "colab": {
     "base_uri": "https://localhost:8080/"
    },
    "id": "R4yteKjgzSyH",
    "outputId": "e78f6ef3-42c0-40f3-a24a-21f0d30ca56c"
   },
   "outputs": [],
   "source": []
  },
  {
   "cell_type": "code",
   "execution_count": null,
   "metadata": {},
   "outputs": [],
   "source": [
    "# Method 3: Use the ttest_1samp function from scipy. \n",
    "# Check the documentation [here](https://docs.scipy.org/doc/scipy/reference/generated/scipy.stats.ttest_1samp.html)\n",
    "# Make sure that you have a scipy version >=1.6.0. If that's not your case please ugrade your scipy version using\n",
    "# !pip install -U scipy\n",
    "# Your code here:"
   ]
  },
  {
   "cell_type": "code",
   "execution_count": 106,
   "metadata": {
    "colab": {
     "base_uri": "https://localhost:8080/"
    },
    "id": "iIMw0PUqzSyI",
    "outputId": "6fbe4e5d-c9d8-473b-a64c-6c533bec9924"
   },
   "outputs": [
    {
     "data": {
      "text/plain": [
       "(-35.80631941460526, 4.517831233839447e-273)"
      ]
     },
     "execution_count": 106,
     "metadata": {},
     "output_type": "execute_result"
    }
   ],
   "source": [
    "from scipy.stats import ttest_1samp\n",
    "stat, pval = ttest_1samp(Hourly_Wage, popmean = 75, alternative = \"two-sided\") \n",
    "stat, pval"
   ]
  },
  {
   "cell_type": "markdown",
   "metadata": {
    "id": "YvxOReoszSyI"
   },
   "source": [
    "Are all the methods in agreement?"
   ]
  },
  {
   "cell_type": "markdown",
   "metadata": {},
   "source": [
    "#### H0(the hourly wage of all FT workers is 75/hr) was rejected. ### "
   ]
  },
  {
   "cell_type": "markdown",
   "metadata": {
    "id": "6W3OpLYuzSyI"
   },
   "source": [
    "We are also curious about salaries in the police force. The chief of police in San Francisco claimed in a press briefing that salaries this year are **higher than last year's mean of $86000/year for all salaried employees** (use the column \"TotalPayBenefits\". Test  hypothesis using a 95% confidence interval.\n",
    "\n",
    "Hint: Use apply and a lambda function to check in \"Police\" is in the \"JobTitle\" to get all the \"Police\" jobs."
   ]
  },
  {
   "cell_type": "code",
   "execution_count": 107,
   "metadata": {},
   "outputs": [
    {
     "data": {
      "text/plain": [
       "Transit Operator              1524\n",
       "Firefighter                    738\n",
       "Police Officer 3               642\n",
       "Custodian                      565\n",
       "Deputy Sheriff                 552\n",
       "                              ... \n",
       "Accountant I                     1\n",
       "Chief Electrical Inspector       1\n",
       "Feasibility Analyst, Port        1\n",
       "IS Trainer-Senior                1\n",
       "Mayoral Staff V                  1\n",
       "Name: JobTitle, Length: 916, dtype: int64"
      ]
     },
     "execution_count": 107,
     "metadata": {},
     "output_type": "execute_result"
    }
   ],
   "source": [
    "data5[\"JobTitle\"].value_counts()"
   ]
  },
  {
   "cell_type": "code",
   "execution_count": 110,
   "metadata": {},
   "outputs": [
    {
     "data": {
      "text/html": [
       "<div>\n",
       "<style scoped>\n",
       "    .dataframe tbody tr th:only-of-type {\n",
       "        vertical-align: middle;\n",
       "    }\n",
       "\n",
       "    .dataframe tbody tr th {\n",
       "        vertical-align: top;\n",
       "    }\n",
       "\n",
       "    .dataframe thead th {\n",
       "        text-align: right;\n",
       "    }\n",
       "</style>\n",
       "<table border=\"1\" class=\"dataframe\">\n",
       "  <thead>\n",
       "    <tr style=\"text-align: right;\">\n",
       "      <th></th>\n",
       "      <th>index</th>\n",
       "      <th>Id</th>\n",
       "      <th>EmployeeName</th>\n",
       "      <th>JobTitle</th>\n",
       "      <th>BasePay</th>\n",
       "      <th>OvertimePay</th>\n",
       "      <th>OtherPay</th>\n",
       "      <th>Benefits</th>\n",
       "      <th>TotalPay</th>\n",
       "      <th>TotalPayBenefits</th>\n",
       "      <th>Year</th>\n",
       "      <th>Agency</th>\n",
       "      <th>Status</th>\n",
       "      <th>Hourly_Wage</th>\n",
       "    </tr>\n",
       "  </thead>\n",
       "  <tbody>\n",
       "    <tr>\n",
       "      <th>3</th>\n",
       "      <td>110534</td>\n",
       "      <td>110535</td>\n",
       "      <td>Gregory P Suhr</td>\n",
       "      <td>Chief of Police</td>\n",
       "      <td>307450.04</td>\n",
       "      <td>0.00</td>\n",
       "      <td>19266.72</td>\n",
       "      <td>91302.46</td>\n",
       "      <td>326716.76</td>\n",
       "      <td>418019.22</td>\n",
       "      <td>2014</td>\n",
       "      <td>San Francisco</td>\n",
       "      <td>FT</td>\n",
       "      <td>209.009610</td>\n",
       "    </tr>\n",
       "    <tr>\n",
       "      <th>86</th>\n",
       "      <td>110617</td>\n",
       "      <td>110618</td>\n",
       "      <td>Jay K Dowke</td>\n",
       "      <td>Police Officer 3</td>\n",
       "      <td>100148.75</td>\n",
       "      <td>15716.42</td>\n",
       "      <td>152037.57</td>\n",
       "      <td>33847.07</td>\n",
       "      <td>267902.74</td>\n",
       "      <td>301749.81</td>\n",
       "      <td>2014</td>\n",
       "      <td>San Francisco</td>\n",
       "      <td>PT</td>\n",
       "      <td>150.874905</td>\n",
       "    </tr>\n",
       "    <tr>\n",
       "      <th>143</th>\n",
       "      <td>110674</td>\n",
       "      <td>110675</td>\n",
       "      <td>Sam W Yuen</td>\n",
       "      <td>Police Officer 2</td>\n",
       "      <td>116584.02</td>\n",
       "      <td>115346.62</td>\n",
       "      <td>18834.23</td>\n",
       "      <td>38350.08</td>\n",
       "      <td>250764.87</td>\n",
       "      <td>289114.95</td>\n",
       "      <td>2014</td>\n",
       "      <td>San Francisco</td>\n",
       "      <td>FT</td>\n",
       "      <td>144.557475</td>\n",
       "    </tr>\n",
       "    <tr>\n",
       "      <th>181</th>\n",
       "      <td>110712</td>\n",
       "      <td>110713</td>\n",
       "      <td>Malcolm S Fong</td>\n",
       "      <td>Police Officer 3</td>\n",
       "      <td>118898.14</td>\n",
       "      <td>109310.13</td>\n",
       "      <td>12557.94</td>\n",
       "      <td>39456.55</td>\n",
       "      <td>240766.21</td>\n",
       "      <td>280222.76</td>\n",
       "      <td>2014</td>\n",
       "      <td>San Francisco</td>\n",
       "      <td>FT</td>\n",
       "      <td>140.111380</td>\n",
       "    </tr>\n",
       "    <tr>\n",
       "      <th>300</th>\n",
       "      <td>110831</td>\n",
       "      <td>110832</td>\n",
       "      <td>Murray P Daggs</td>\n",
       "      <td>Police Officer 3</td>\n",
       "      <td>118898.13</td>\n",
       "      <td>98583.98</td>\n",
       "      <td>10919.81</td>\n",
       "      <td>38833.08</td>\n",
       "      <td>228401.92</td>\n",
       "      <td>267235.00</td>\n",
       "      <td>2014</td>\n",
       "      <td>San Francisco</td>\n",
       "      <td>FT</td>\n",
       "      <td>133.617500</td>\n",
       "    </tr>\n",
       "  </tbody>\n",
       "</table>\n",
       "</div>"
      ],
      "text/plain": [
       "      index      Id    EmployeeName          JobTitle    BasePay  OvertimePay  \\\n",
       "3    110534  110535  Gregory P Suhr   Chief of Police  307450.04         0.00   \n",
       "86   110617  110618     Jay K Dowke  Police Officer 3  100148.75     15716.42   \n",
       "143  110674  110675      Sam W Yuen  Police Officer 2  116584.02    115346.62   \n",
       "181  110712  110713  Malcolm S Fong  Police Officer 3  118898.14    109310.13   \n",
       "300  110831  110832  Murray P Daggs  Police Officer 3  118898.13     98583.98   \n",
       "\n",
       "      OtherPay  Benefits   TotalPay  TotalPayBenefits  Year         Agency  \\\n",
       "3     19266.72  91302.46  326716.76         418019.22  2014  San Francisco   \n",
       "86   152037.57  33847.07  267902.74         301749.81  2014  San Francisco   \n",
       "143   18834.23  38350.08  250764.87         289114.95  2014  San Francisco   \n",
       "181   12557.94  39456.55  240766.21         280222.76  2014  San Francisco   \n",
       "300   10919.81  38833.08  228401.92         267235.00  2014  San Francisco   \n",
       "\n",
       "    Status  Hourly_Wage  \n",
       "3       FT   209.009610  \n",
       "86      PT   150.874905  \n",
       "143     FT   144.557475  \n",
       "181     FT   140.111380  \n",
       "300     FT   133.617500  "
      ]
     },
     "execution_count": 110,
     "metadata": {},
     "output_type": "execute_result"
    }
   ],
   "source": [
    "data6 = data4.copy()\n",
    "police_df = data6[data6['JobTitle'].apply(lambda x: 'Police' in x)]\n",
    "police_df.head()"
   ]
  },
  {
   "cell_type": "code",
   "execution_count": 113,
   "metadata": {},
   "outputs": [
    {
     "data": {
      "text/html": [
       "<div>\n",
       "<style scoped>\n",
       "    .dataframe tbody tr th:only-of-type {\n",
       "        vertical-align: middle;\n",
       "    }\n",
       "\n",
       "    .dataframe tbody tr th {\n",
       "        vertical-align: top;\n",
       "    }\n",
       "\n",
       "    .dataframe thead th {\n",
       "        text-align: right;\n",
       "    }\n",
       "</style>\n",
       "<table border=\"1\" class=\"dataframe\">\n",
       "  <thead>\n",
       "    <tr style=\"text-align: right;\">\n",
       "      <th></th>\n",
       "      <th>index</th>\n",
       "      <th>Id</th>\n",
       "      <th>BasePay</th>\n",
       "      <th>OvertimePay</th>\n",
       "      <th>OtherPay</th>\n",
       "      <th>Benefits</th>\n",
       "      <th>TotalPay</th>\n",
       "      <th>TotalPayBenefits</th>\n",
       "      <th>Year</th>\n",
       "      <th>Hourly_Wage</th>\n",
       "    </tr>\n",
       "  </thead>\n",
       "  <tbody>\n",
       "    <tr>\n",
       "      <th>count</th>\n",
       "      <td>1901.000000</td>\n",
       "      <td>1901.000000</td>\n",
       "      <td>1901.000000</td>\n",
       "      <td>1901.000000</td>\n",
       "      <td>1901.000000</td>\n",
       "      <td>1901.000000</td>\n",
       "      <td>1901.000000</td>\n",
       "      <td>1901.000000</td>\n",
       "      <td>1901.0</td>\n",
       "      <td>1901.000000</td>\n",
       "    </tr>\n",
       "    <tr>\n",
       "      <th>mean</th>\n",
       "      <td>120948.338243</td>\n",
       "      <td>120949.338243</td>\n",
       "      <td>93872.060295</td>\n",
       "      <td>14036.861820</td>\n",
       "      <td>8082.794245</td>\n",
       "      <td>32357.325765</td>\n",
       "      <td>115991.716360</td>\n",
       "      <td>148349.042125</td>\n",
       "      <td>2014.0</td>\n",
       "      <td>74.174521</td>\n",
       "    </tr>\n",
       "    <tr>\n",
       "      <th>std</th>\n",
       "      <td>8976.159553</td>\n",
       "      <td>8976.159553</td>\n",
       "      <td>33436.738602</td>\n",
       "      <td>16274.622581</td>\n",
       "      <td>14462.172447</td>\n",
       "      <td>10576.829245</td>\n",
       "      <td>45118.216862</td>\n",
       "      <td>54095.231377</td>\n",
       "      <td>0.0</td>\n",
       "      <td>27.047616</td>\n",
       "    </tr>\n",
       "    <tr>\n",
       "      <th>min</th>\n",
       "      <td>110534.000000</td>\n",
       "      <td>110535.000000</td>\n",
       "      <td>0.000000</td>\n",
       "      <td>0.000000</td>\n",
       "      <td>0.000000</td>\n",
       "      <td>0.000000</td>\n",
       "      <td>0.000000</td>\n",
       "      <td>70.370000</td>\n",
       "      <td>2014.0</td>\n",
       "      <td>0.035185</td>\n",
       "    </tr>\n",
       "    <tr>\n",
       "      <th>25%</th>\n",
       "      <td>114898.000000</td>\n",
       "      <td>114899.000000</td>\n",
       "      <td>66628.500000</td>\n",
       "      <td>2720.220000</td>\n",
       "      <td>2323.910000</td>\n",
       "      <td>29439.590000</td>\n",
       "      <td>85909.280000</td>\n",
       "      <td>113189.710000</td>\n",
       "      <td>2014.0</td>\n",
       "      <td>56.594855</td>\n",
       "    </tr>\n",
       "    <tr>\n",
       "      <th>50%</th>\n",
       "      <td>116854.000000</td>\n",
       "      <td>116855.000000</td>\n",
       "      <td>112164.030000</td>\n",
       "      <td>8544.040000</td>\n",
       "      <td>4970.110000</td>\n",
       "      <td>37559.470000</td>\n",
       "      <td>128018.920000</td>\n",
       "      <td>165794.610000</td>\n",
       "      <td>2014.0</td>\n",
       "      <td>82.897305</td>\n",
       "    </tr>\n",
       "    <tr>\n",
       "      <th>75%</th>\n",
       "      <td>126083.000000</td>\n",
       "      <td>126084.000000</td>\n",
       "      <td>118898.000000</td>\n",
       "      <td>19177.910000</td>\n",
       "      <td>8134.130000</td>\n",
       "      <td>38833.110000</td>\n",
       "      <td>143432.350000</td>\n",
       "      <td>181759.450000</td>\n",
       "      <td>2014.0</td>\n",
       "      <td>90.879725</td>\n",
       "    </tr>\n",
       "    <tr>\n",
       "      <th>max</th>\n",
       "      <td>148561.000000</td>\n",
       "      <td>148562.000000</td>\n",
       "      <td>307450.040000</td>\n",
       "      <td>115346.620000</td>\n",
       "      <td>152037.570000</td>\n",
       "      <td>91302.460000</td>\n",
       "      <td>326716.760000</td>\n",
       "      <td>418019.220000</td>\n",
       "      <td>2014.0</td>\n",
       "      <td>209.009610</td>\n",
       "    </tr>\n",
       "  </tbody>\n",
       "</table>\n",
       "</div>"
      ],
      "text/plain": [
       "               index             Id        BasePay    OvertimePay  \\\n",
       "count    1901.000000    1901.000000    1901.000000    1901.000000   \n",
       "mean   120948.338243  120949.338243   93872.060295   14036.861820   \n",
       "std      8976.159553    8976.159553   33436.738602   16274.622581   \n",
       "min    110534.000000  110535.000000       0.000000       0.000000   \n",
       "25%    114898.000000  114899.000000   66628.500000    2720.220000   \n",
       "50%    116854.000000  116855.000000  112164.030000    8544.040000   \n",
       "75%    126083.000000  126084.000000  118898.000000   19177.910000   \n",
       "max    148561.000000  148562.000000  307450.040000  115346.620000   \n",
       "\n",
       "            OtherPay      Benefits       TotalPay  TotalPayBenefits    Year  \\\n",
       "count    1901.000000   1901.000000    1901.000000       1901.000000  1901.0   \n",
       "mean     8082.794245  32357.325765  115991.716360     148349.042125  2014.0   \n",
       "std     14462.172447  10576.829245   45118.216862      54095.231377     0.0   \n",
       "min         0.000000      0.000000       0.000000         70.370000  2014.0   \n",
       "25%      2323.910000  29439.590000   85909.280000     113189.710000  2014.0   \n",
       "50%      4970.110000  37559.470000  128018.920000     165794.610000  2014.0   \n",
       "75%      8134.130000  38833.110000  143432.350000     181759.450000  2014.0   \n",
       "max    152037.570000  91302.460000  326716.760000     418019.220000  2014.0   \n",
       "\n",
       "       Hourly_Wage  \n",
       "count  1901.000000  \n",
       "mean     74.174521  \n",
       "std      27.047616  \n",
       "min       0.035185  \n",
       "25%      56.594855  \n",
       "50%      82.897305  \n",
       "75%      90.879725  \n",
       "max     209.009610  "
      ]
     },
     "execution_count": 113,
     "metadata": {},
     "output_type": "execute_result"
    }
   ],
   "source": [
    "police_df.describe()"
   ]
  },
  {
   "cell_type": "code",
   "execution_count": 117,
   "metadata": {},
   "outputs": [
    {
     "data": {
      "text/plain": [
       "50.252984742109916"
      ]
     },
     "execution_count": 117,
     "metadata": {},
     "output_type": "execute_result"
    }
   ],
   "source": [
    "# Your code here: (compute the t_statistic). Take into account that this dataset is a sample of a real population.\n",
    "# Remember that you only need to consider \"Police\" employees\n",
    "\n",
    "\n",
    "\n",
    "police = police_df['TotalPayBenefits']\n",
    "sample_mean2 = police.mean()\n",
    "sample_std2 = police.std()\n",
    "sample_size2 = len(police)\n",
    "Population_mean2 = 86000\n",
    "\n",
    "\n",
    "t_statistic2 = (sample_mean2 - Population_mean2) /(sample_std2 / np.sqrt(sample_size2))\n",
    "\n",
    "\n",
    "\n",
    "#critical_value = st.t.ppf(0.05, df=len(police)-1)\n",
    "#critical_value\n",
    "t_statistic2"
   ]
  },
  {
   "cell_type": "code",
   "execution_count": null,
   "metadata": {},
   "outputs": [],
   "source": []
  },
  {
   "cell_type": "code",
   "execution_count": null,
   "metadata": {},
   "outputs": [],
   "source": []
  },
  {
   "cell_type": "code",
   "execution_count": 27,
   "metadata": {
    "colab": {
     "base_uri": "https://localhost:8080/"
    },
    "id": "SZJ_pHiUzSyI",
    "outputId": "1b3fe9d9-2589-4afa-d7b0-4d09251a3ba3"
   },
   "outputs": [
    {
     "data": {
      "text/plain": [
       "50.252984742109916"
      ]
     },
     "execution_count": 27,
     "metadata": {},
     "output_type": "execute_result"
    }
   ],
   "source": []
  },
  {
   "cell_type": "code",
   "execution_count": 118,
   "metadata": {},
   "outputs": [
    {
     "data": {
      "text/plain": [
       "-1.645656004264731"
      ]
     },
     "execution_count": 118,
     "metadata": {},
     "output_type": "execute_result"
    }
   ],
   "source": [
    "# Method 1: Critical value. Get the critical value and compare it against your statisttic.\n",
    "# Your code here: \n",
    "critical_value2 = st.t.ppf(0.05, df=sample_size2-1)\n",
    "critical_value2\n"
   ]
  },
  {
   "cell_type": "code",
   "execution_count": null,
   "metadata": {
    "colab": {
     "base_uri": "https://localhost:8080/"
    },
    "id": "MQec5gU6zSyJ",
    "outputId": "bc66c72a-9154-4a15-ca3a-6f59e30e1b1c"
   },
   "outputs": [],
   "source": []
  },
  {
   "cell_type": "code",
   "execution_count": 119,
   "metadata": {},
   "outputs": [
    {
     "data": {
      "text/plain": [
       "1.0"
      ]
     },
     "execution_count": 119,
     "metadata": {},
     "output_type": "execute_result"
    }
   ],
   "source": [
    "# Method 2: Use the p-value method.\n",
    "# Your code here:\n",
    "st.t.cdf(t, df=sample_size2-1)"
   ]
  },
  {
   "cell_type": "code",
   "execution_count": null,
   "metadata": {
    "colab": {
     "base_uri": "https://localhost:8080/"
    },
    "id": "zVwWqhkOzSyJ",
    "outputId": "039b9c5f-b817-47ed-d4dc-686673241b9b"
   },
   "outputs": [],
   "source": []
  },
  {
   "cell_type": "code",
   "execution_count": 123,
   "metadata": {},
   "outputs": [
    {
     "name": "stdout",
     "output_type": "stream",
     "text": [
      "Ttest_1sampResult(statistic=50.252984742109945, pvalue=1.0)\n"
     ]
    }
   ],
   "source": [
    "# Method 3: Use the ttest_1samp function from scipy. \n",
    "# Check the documentation [here](https://docs.scipy.org/doc/scipy/reference/generated/scipy.stats.ttest_1samp.html)\n",
    "# Make sure that you have a scipy version >=1.6.0. If that's not your case please ugrade your scipy version using\n",
    "# !pip install -U scipy\n",
    "# Your code here:\n",
    "stat, pval = ttest_1samp(police, popmean = 86000, alternative = \"less\") \n",
    "print('Ttest_1sampResult(statistic={}, pvalue={})'.format(stat, pval))"
   ]
  },
  {
   "cell_type": "code",
   "execution_count": null,
   "metadata": {},
   "outputs": [],
   "source": []
  },
  {
   "cell_type": "code",
   "execution_count": 30,
   "metadata": {
    "colab": {
     "base_uri": "https://localhost:8080/"
    },
    "id": "INGCUoXHzSyJ",
    "outputId": "0add2f05-e1c9-4a2c-c91d-731183b8463e"
   },
   "outputs": [
    {
     "data": {
      "text/plain": [
       "Ttest_1sampResult(statistic=50.252984742109945, pvalue=1.0)"
      ]
     },
     "execution_count": 30,
     "metadata": {},
     "output_type": "execute_result"
    }
   ],
   "source": []
  },
  {
   "cell_type": "markdown",
   "metadata": {
    "id": "wPCpi313zSyJ"
   },
   "source": [
    "The workers from the \"JobTitle\" with the most employees have complained that their hourly wage is **less than $35/hour**. Using a one sample t-test, test this one-sided hypothesis at the 95% confidence level."
   ]
  },
  {
   "cell_type": "code",
   "execution_count": 129,
   "metadata": {},
   "outputs": [
    {
     "data": {
      "text/plain": [
       "'Transit Operator'"
      ]
     },
     "execution_count": 129,
     "metadata": {},
     "output_type": "execute_result"
    }
   ],
   "source": [
    "# Your code here: (Get the department which has most employees)\n",
    "data7 = data4.copy()\n",
    "data7['JobTitle'].mode().iloc[0]\n"
   ]
  },
  {
   "cell_type": "code",
   "execution_count": 31,
   "metadata": {
    "colab": {
     "base_uri": "https://localhost:8080/",
     "height": 35
    },
    "id": "m6X0DN4czSyJ",
    "outputId": "ed950bc6-1be7-4df6-be61-977bfb95d375"
   },
   "outputs": [
    {
     "data": {
      "application/vnd.google.colaboratory.intrinsic+json": {
       "type": "string"
      },
      "text/plain": [
       "'Transit Operator'"
      ]
     },
     "execution_count": 31,
     "metadata": {},
     "output_type": "execute_result"
    }
   ],
   "source": []
  },
  {
   "cell_type": "code",
   "execution_count": 134,
   "metadata": {},
   "outputs": [
    {
     "data": {
      "text/plain": [
       "19.064990324906553"
      ]
     },
     "execution_count": 134,
     "metadata": {},
     "output_type": "execute_result"
    }
   ],
   "source": [
    "# Your code here: (compute the t_statistic). Take into account that this dataset is a sample of a real population.\n",
    "# Remember that you only need to consider the right \"JobTitle\" employees\n",
    "data7 = data7[data7['JobTitle'] == 'Transit Operator' ]\n",
    "Hourly_Wage2 = data7['Hourly_Wage']\n",
    "sample_mean3 = Hourly_Wage2.mean()\n",
    "sample_std3 = Hourly_Wage2.std()\n",
    "sample_size3 = len(Hourly_Wage2)\n",
    "Population_mean3 = 35\n",
    "\n",
    "t_statistic3 = (sample_mean3 - Population_mean3) /(sample_std3 / np.sqrt(sample_size3))\n",
    "t_statistic3"
   ]
  },
  {
   "cell_type": "code",
   "execution_count": null,
   "metadata": {},
   "outputs": [],
   "source": []
  },
  {
   "cell_type": "code",
   "execution_count": 32,
   "metadata": {
    "colab": {
     "base_uri": "https://localhost:8080/"
    },
    "id": "ifyDMFLXzSyJ",
    "outputId": "f350c751-9253-4140-a377-36c8112afc74"
   },
   "outputs": [
    {
     "data": {
      "text/plain": [
       "19.06499032490655"
      ]
     },
     "execution_count": 32,
     "metadata": {},
     "output_type": "execute_result"
    }
   ],
   "source": []
  },
  {
   "cell_type": "code",
   "execution_count": 135,
   "metadata": {},
   "outputs": [
    {
     "name": "stdout",
     "output_type": "stream",
     "text": [
      "The critical value is 1.645\n"
     ]
    }
   ],
   "source": [
    "# Method 1: Critical value. Get the critical value and compare it against your statisttic.\n",
    "# Your code here: \n",
    "critical_value = st.t.ppf(1-0.05, df=sample_size3-1)\n",
    "print(\"The critical value is {:.3f}\".format(critical_value))"
   ]
  },
  {
   "cell_type": "code",
   "execution_count": null,
   "metadata": {
    "colab": {
     "base_uri": "https://localhost:8080/"
    },
    "id": "BCl3E2ItzSyK",
    "outputId": "f7677a30-0bf3-4c92-83f1-6a2e00f5176b"
   },
   "outputs": [],
   "source": []
  },
  {
   "cell_type": "code",
   "execution_count": 142,
   "metadata": {},
   "outputs": [
    {
     "name": "stdout",
     "output_type": "stream",
     "text": [
      "The p-value is 1.0\n"
     ]
    }
   ],
   "source": [
    "# Method 2: Use the p-value method.\n",
    "# Your code here:\n",
    "p_value =st.t.cdf(t,df=len(Hourly_Wage2)-1)\n",
    "print(\"The p-value is {}\".format(p_value))"
   ]
  },
  {
   "cell_type": "code",
   "execution_count": 138,
   "metadata": {
    "colab": {
     "base_uri": "https://localhost:8080/"
    },
    "id": "EmIpVMd0zSyK",
    "outputId": "00cb8466-e885-4acb-9015-6d54b61b1c7d"
   },
   "outputs": [
    {
     "name": "stdout",
     "output_type": "stream",
     "text": [
      "Ttest_1sampResult(statistic=19.064990324906383, pvalue=5.012771694204206e-76)\n"
     ]
    }
   ],
   "source": [
    "# Method 3: Use the ttest_1samp function from scipy. \n",
    "# Check the documentation [here](https://docs.scipy.org/doc/scipy/reference/generated/scipy.stats.ttest_1samp.html)\n",
    "# Make sure that you have a scipy version >=1.6.0. If that's not your case please ugrade your scipy version using\n",
    "# !pip install -U scipy\n",
    "# Your code here:\n",
    "stat3, pval3 = ttest_1samp(Hourly_Wage2, popmean = 35, alternative = \"greater\")\n",
    "print('Ttest_1sampResult(statistic={}, pvalue={})'.format(stat3, pval3))\n"
   ]
  },
  {
   "cell_type": "code",
   "execution_count": 35,
   "metadata": {
    "colab": {
     "base_uri": "https://localhost:8080/"
    },
    "id": "lxmOkkIIzSyK",
    "outputId": "989799b7-3304-4954-e268-9b190515eb4b"
   },
   "outputs": [
    {
     "data": {
      "text/plain": [
       "Ttest_1sampResult(statistic=19.064990324906383, pvalue=5.012771694204206e-76)"
      ]
     },
     "execution_count": 35,
     "metadata": {},
     "output_type": "execute_result"
    }
   ],
   "source": []
  },
  {
   "cell_type": "code",
   "execution_count": null,
   "metadata": {},
   "outputs": [],
   "source": []
  },
  {
   "cell_type": "markdown",
   "metadata": {
    "id": "ZNtFKSmuzSyK"
   },
   "source": [
    "# Challenge 3: To practice - Constructing Confidence Intervals\n",
    "\n",
    "While testing our hypothesis is a great way to gather empirical evidence for accepting or rejecting the hypothesis, another way to gather evidence is by creating a confidence interval. A confidence interval gives us information about the true mean of the population. So for a 95% confidence interval, we are 95% sure that the mean of the population is within the confidence interval. \n",
    ").\n",
    "\n",
    "To read more about confidence intervals, click [here](https://en.wikipedia.org/wiki/Confidence_interval).\n",
    "\n",
    "\n",
    "In the cell below, we will construct a 95% confidence interval for the mean hourly wage of all hourly workers. \n",
    "\n",
    "To compute the confidence interval of the hourly wage, use the 0.95 for the confidence level."
   ]
  },
  {
   "cell_type": "code",
   "execution_count": 148,
   "metadata": {},
   "outputs": [
    {
     "name": "stdout",
     "output_type": "stream",
     "text": [
      "Sample mean:  50.13\n",
      "Confidence interval:  [49.8, 50.46]\n"
     ]
    }
   ],
   "source": [
    "# Method 1: Get the critical values which correspond to a 95% confidence.\n",
    "# Your code here:\n",
    "data8 = data4.copy()\n",
    "data8 = data8['Hourly_Wage']\n",
    "sample_mean4 = data8.mean()\n",
    "print('Sample mean: ',round(sample_mean4,2))\n",
    "\n",
    "confidence_level = 0.95\n",
    "degrees_freedom = len(data8) - 1 \n",
    "\n",
    "sample_standard_error = st.sem(data8) \n",
    "\n",
    "confidence_interval = st.t.interval(confidence_level, \n",
    "                                             degrees_freedom, \n",
    "                                             sample_mean4, \n",
    "                                             sample_standard_error)\n",
    "#round\n",
    "rounded_list = [round(num, 2) for num in confidence_interval]\n",
    "\n",
    "print('Confidence interval: ', rounded_list)"
   ]
  },
  {
   "cell_type": "code",
   "execution_count": 36,
   "metadata": {
    "colab": {
     "base_uri": "https://localhost:8080/"
    },
    "id": "y78OZcg7zSyL",
    "outputId": "9e07b943-737e-4458-d47c-f093a174da98"
   },
   "outputs": [
    {
     "name": "stdout",
     "output_type": "stream",
     "text": [
      "Sample mean: 50.13\n",
      "Confidence interval: [49.80,50.46]\n"
     ]
    }
   ],
   "source": []
  },
  {
   "cell_type": "markdown",
   "metadata": {
    "id": "K3FbLwVjzSyL"
   },
   "source": [
    "Now compute a 95% confidence interval for the hourly salary of all the Police employees."
   ]
  },
  {
   "cell_type": "code",
   "execution_count": 149,
   "metadata": {},
   "outputs": [
    {
     "name": "stdout",
     "output_type": "stream",
     "text": [
      "Sample mean:  74.17\n",
      "Confidence interval:  [72.96, 75.39]\n"
     ]
    }
   ],
   "source": [
    "# Your code here:\n",
    "data9 = data4.copy()\n",
    "data9 = data9[data9['JobTitle'].apply(lambda x: 'Police' in x)]\n",
    "data9 = data9['Hourly_Wage']\n",
    "sample_mean5 = data9.mean()\n",
    "print('Sample mean: ',round(sample_mean5,2))\n",
    "\n",
    "confidence_level2 = 0.95\n",
    "degrees_freedom2 = len(data9) - 1 \n",
    "\n",
    "sample_standard_error2 = st.sem(data9) \n",
    "\n",
    "confidence_interval2 = st.t.interval(confidence_level2, \n",
    "                                             degrees_freedom2, \n",
    "                                             sample_mean5, \n",
    "                                             sample_standard_error2)\n",
    "#round\n",
    "rounded_list2 = [round(num, 2) for num in confidence_interval2]\n",
    "\n",
    "print('Confidence interval: ', rounded_list2)\n"
   ]
  },
  {
   "cell_type": "code",
   "execution_count": null,
   "metadata": {},
   "outputs": [],
   "source": []
  },
  {
   "cell_type": "code",
   "execution_count": 37,
   "metadata": {
    "colab": {
     "base_uri": "https://localhost:8080/"
    },
    "id": "kJHkhMr6zSyL",
    "outputId": "9e39906c-f69b-462d-ebd4-af1dfcac014b"
   },
   "outputs": [
    {
     "name": "stdout",
     "output_type": "stream",
     "text": [
      "Sample mean: 74.17\n",
      "Confidence interval: [72.96,75.39]\n"
     ]
    }
   ],
   "source": []
  },
  {
   "cell_type": "markdown",
   "metadata": {
    "id": "weFO_tpszSyL"
   },
   "source": [
    "# Chi2 test"
   ]
  },
  {
   "cell_type": "markdown",
   "metadata": {
    "id": "HfCTSUjSzSyL"
   },
   "source": [
    "Now we want to know if the amount of full time \"FT\" and part time \"PT\" employees is equal between Lawers, Meds, Police, Firemen and other departments. \n",
    "\n",
    "Considering all the options in this groups of employees will be very time consuming. To simplify this process, create first a function that returns:\n",
    "\n",
    "* \"Policemen\" if \"Police\" is found on \"JobTitle\"\n",
    "* \"Firemen\" if \"Fire\" is found on \"JobTitle\"\n",
    "* \"Medical\" if \"Med\" or \"Nurse\" is found on \"JobTitle\"\n",
    "* \"Lawyer\" if \"Attorney\" is found on \"JobTitle\"\n",
    "* \"Other\" in any other cases\n",
    "\n",
    "Then, create a new column named \"employee_group\" that determines to which group belong the employee. "
   ]
  },
  {
   "cell_type": "code",
   "execution_count": 150,
   "metadata": {
    "id": "ZojYuxvazSyM"
   },
   "outputs": [],
   "source": [
    "# Your code here: (Create the function)\n",
    "def create_employee_group(job_title: str) ->str:\n",
    "    '''\n",
    "    This function creates a new category of job groups\n",
    "    Input: str\n",
    "    Output: str\n",
    "    \n",
    "    '''\n",
    "    if 'Police' in job_title:\n",
    "        return 'Policemen'\n",
    "    elif 'Fire' in job_title:\n",
    "        return 'Firemen'\n",
    "    elif 'Med' in job_title or 'Nurse' in job_title:\n",
    "        return 'Medical'\n",
    "    elif 'Attorney' in job_title:\n",
    "        return 'Lawyer'\n",
    "    else:\n",
    "        return 'Other'\n"
   ]
  },
  {
   "cell_type": "code",
   "execution_count": 152,
   "metadata": {},
   "outputs": [
    {
     "data": {
      "text/html": [
       "<div>\n",
       "<style scoped>\n",
       "    .dataframe tbody tr th:only-of-type {\n",
       "        vertical-align: middle;\n",
       "    }\n",
       "\n",
       "    .dataframe tbody tr th {\n",
       "        vertical-align: top;\n",
       "    }\n",
       "\n",
       "    .dataframe thead th {\n",
       "        text-align: right;\n",
       "    }\n",
       "</style>\n",
       "<table border=\"1\" class=\"dataframe\">\n",
       "  <thead>\n",
       "    <tr style=\"text-align: right;\">\n",
       "      <th></th>\n",
       "      <th>index</th>\n",
       "      <th>Id</th>\n",
       "      <th>EmployeeName</th>\n",
       "      <th>JobTitle</th>\n",
       "      <th>BasePay</th>\n",
       "      <th>OvertimePay</th>\n",
       "      <th>OtherPay</th>\n",
       "      <th>Benefits</th>\n",
       "      <th>TotalPay</th>\n",
       "      <th>TotalPayBenefits</th>\n",
       "      <th>Year</th>\n",
       "      <th>Agency</th>\n",
       "      <th>Status</th>\n",
       "      <th>Hourly_Wage</th>\n",
       "      <th>employee_group</th>\n",
       "    </tr>\n",
       "  </thead>\n",
       "  <tbody>\n",
       "    <tr>\n",
       "      <th>0</th>\n",
       "      <td>110531</td>\n",
       "      <td>110532</td>\n",
       "      <td>David Shinn</td>\n",
       "      <td>Deputy Chief 3</td>\n",
       "      <td>129150.01</td>\n",
       "      <td>0.00</td>\n",
       "      <td>342802.63</td>\n",
       "      <td>38780.04</td>\n",
       "      <td>471952.64</td>\n",
       "      <td>510732.68</td>\n",
       "      <td>2014</td>\n",
       "      <td>San Francisco</td>\n",
       "      <td>PT</td>\n",
       "      <td>255.366340</td>\n",
       "      <td>Other</td>\n",
       "    </tr>\n",
       "    <tr>\n",
       "      <th>1</th>\n",
       "      <td>110532</td>\n",
       "      <td>110533</td>\n",
       "      <td>Amy P Hart</td>\n",
       "      <td>Asst Med Examiner</td>\n",
       "      <td>318835.49</td>\n",
       "      <td>10712.95</td>\n",
       "      <td>60563.54</td>\n",
       "      <td>89540.23</td>\n",
       "      <td>390111.98</td>\n",
       "      <td>479652.21</td>\n",
       "      <td>2014</td>\n",
       "      <td>San Francisco</td>\n",
       "      <td>FT</td>\n",
       "      <td>239.826105</td>\n",
       "      <td>Medical</td>\n",
       "    </tr>\n",
       "    <tr>\n",
       "      <th>2</th>\n",
       "      <td>110533</td>\n",
       "      <td>110534</td>\n",
       "      <td>William J Coaker Jr.</td>\n",
       "      <td>Chief Investment Officer</td>\n",
       "      <td>257340.00</td>\n",
       "      <td>0.00</td>\n",
       "      <td>82313.70</td>\n",
       "      <td>96570.66</td>\n",
       "      <td>339653.70</td>\n",
       "      <td>436224.36</td>\n",
       "      <td>2014</td>\n",
       "      <td>San Francisco</td>\n",
       "      <td>PT</td>\n",
       "      <td>218.112180</td>\n",
       "      <td>Other</td>\n",
       "    </tr>\n",
       "    <tr>\n",
       "      <th>3</th>\n",
       "      <td>110534</td>\n",
       "      <td>110535</td>\n",
       "      <td>Gregory P Suhr</td>\n",
       "      <td>Chief of Police</td>\n",
       "      <td>307450.04</td>\n",
       "      <td>0.00</td>\n",
       "      <td>19266.72</td>\n",
       "      <td>91302.46</td>\n",
       "      <td>326716.76</td>\n",
       "      <td>418019.22</td>\n",
       "      <td>2014</td>\n",
       "      <td>San Francisco</td>\n",
       "      <td>FT</td>\n",
       "      <td>209.009610</td>\n",
       "      <td>Policemen</td>\n",
       "    </tr>\n",
       "    <tr>\n",
       "      <th>4</th>\n",
       "      <td>110535</td>\n",
       "      <td>110536</td>\n",
       "      <td>Joanne M Hayes-White</td>\n",
       "      <td>Chief, Fire Department</td>\n",
       "      <td>302068.00</td>\n",
       "      <td>0.00</td>\n",
       "      <td>24165.44</td>\n",
       "      <td>91201.66</td>\n",
       "      <td>326233.44</td>\n",
       "      <td>417435.10</td>\n",
       "      <td>2014</td>\n",
       "      <td>San Francisco</td>\n",
       "      <td>FT</td>\n",
       "      <td>208.717550</td>\n",
       "      <td>Firemen</td>\n",
       "    </tr>\n",
       "  </tbody>\n",
       "</table>\n",
       "</div>"
      ],
      "text/plain": [
       "    index      Id          EmployeeName                  JobTitle    BasePay  \\\n",
       "0  110531  110532           David Shinn            Deputy Chief 3  129150.01   \n",
       "1  110532  110533            Amy P Hart         Asst Med Examiner  318835.49   \n",
       "2  110533  110534  William J Coaker Jr.  Chief Investment Officer  257340.00   \n",
       "3  110534  110535        Gregory P Suhr           Chief of Police  307450.04   \n",
       "4  110535  110536  Joanne M Hayes-White    Chief, Fire Department  302068.00   \n",
       "\n",
       "   OvertimePay   OtherPay  Benefits   TotalPay  TotalPayBenefits  Year  \\\n",
       "0         0.00  342802.63  38780.04  471952.64         510732.68  2014   \n",
       "1     10712.95   60563.54  89540.23  390111.98         479652.21  2014   \n",
       "2         0.00   82313.70  96570.66  339653.70         436224.36  2014   \n",
       "3         0.00   19266.72  91302.46  326716.76         418019.22  2014   \n",
       "4         0.00   24165.44  91201.66  326233.44         417435.10  2014   \n",
       "\n",
       "          Agency Status  Hourly_Wage employee_group  \n",
       "0  San Francisco     PT   255.366340          Other  \n",
       "1  San Francisco     FT   239.826105        Medical  \n",
       "2  San Francisco     PT   218.112180          Other  \n",
       "3  San Francisco     FT   209.009610      Policemen  \n",
       "4  San Francisco     FT   208.717550        Firemen  "
      ]
     },
     "execution_count": 152,
     "metadata": {},
     "output_type": "execute_result"
    }
   ],
   "source": [
    "# Your code here: (Apply the function)\n",
    "data10 = data4.copy()\n",
    "\n",
    "data10['employee_group'] = data10['JobTitle'].apply(lambda x:create_employee_group(x))\n",
    "data10.head()"
   ]
  },
  {
   "cell_type": "code",
   "execution_count": null,
   "metadata": {},
   "outputs": [],
   "source": []
  },
  {
   "cell_type": "code",
   "execution_count": 39,
   "metadata": {
    "colab": {
     "base_uri": "https://localhost:8080/",
     "height": 374
    },
    "id": "79H-XuKfzSyM",
    "outputId": "fa61544e-b697-478c-8227-88ce7cb6b965",
    "scrolled": true
   },
   "outputs": [
    {
     "data": {
      "text/html": [
       "\n",
       "  <div id=\"df-af28de19-ac2d-4f6d-943f-8d18daba16e2\">\n",
       "    <div class=\"colab-df-container\">\n",
       "      <div>\n",
       "<style scoped>\n",
       "    .dataframe tbody tr th:only-of-type {\n",
       "        vertical-align: middle;\n",
       "    }\n",
       "\n",
       "    .dataframe tbody tr th {\n",
       "        vertical-align: top;\n",
       "    }\n",
       "\n",
       "    .dataframe thead th {\n",
       "        text-align: right;\n",
       "    }\n",
       "</style>\n",
       "<table border=\"1\" class=\"dataframe\">\n",
       "  <thead>\n",
       "    <tr style=\"text-align: right;\">\n",
       "      <th></th>\n",
       "      <th>Id</th>\n",
       "      <th>EmployeeName</th>\n",
       "      <th>JobTitle</th>\n",
       "      <th>BasePay</th>\n",
       "      <th>OvertimePay</th>\n",
       "      <th>OtherPay</th>\n",
       "      <th>Benefits</th>\n",
       "      <th>TotalPay</th>\n",
       "      <th>TotalPayBenefits</th>\n",
       "      <th>Year</th>\n",
       "      <th>Agency</th>\n",
       "      <th>Status</th>\n",
       "      <th>Hourly_Wage</th>\n",
       "      <th>employee_group</th>\n",
       "    </tr>\n",
       "  </thead>\n",
       "  <tbody>\n",
       "    <tr>\n",
       "      <th>0</th>\n",
       "      <td>110532</td>\n",
       "      <td>David Shinn</td>\n",
       "      <td>Deputy Chief 3</td>\n",
       "      <td>129150.01</td>\n",
       "      <td>0.00</td>\n",
       "      <td>342802.63</td>\n",
       "      <td>38780.04</td>\n",
       "      <td>471952.64</td>\n",
       "      <td>510732.68</td>\n",
       "      <td>2014</td>\n",
       "      <td>San Francisco</td>\n",
       "      <td>PT</td>\n",
       "      <td>255.366340</td>\n",
       "      <td>Other</td>\n",
       "    </tr>\n",
       "    <tr>\n",
       "      <th>1</th>\n",
       "      <td>110533</td>\n",
       "      <td>Amy P Hart</td>\n",
       "      <td>Asst Med Examiner</td>\n",
       "      <td>318835.49</td>\n",
       "      <td>10712.95</td>\n",
       "      <td>60563.54</td>\n",
       "      <td>89540.23</td>\n",
       "      <td>390111.98</td>\n",
       "      <td>479652.21</td>\n",
       "      <td>2014</td>\n",
       "      <td>San Francisco</td>\n",
       "      <td>FT</td>\n",
       "      <td>239.826105</td>\n",
       "      <td>Medical</td>\n",
       "    </tr>\n",
       "    <tr>\n",
       "      <th>2</th>\n",
       "      <td>110534</td>\n",
       "      <td>William J Coaker Jr.</td>\n",
       "      <td>Chief Investment Officer</td>\n",
       "      <td>257340.00</td>\n",
       "      <td>0.00</td>\n",
       "      <td>82313.70</td>\n",
       "      <td>96570.66</td>\n",
       "      <td>339653.70</td>\n",
       "      <td>436224.36</td>\n",
       "      <td>2014</td>\n",
       "      <td>San Francisco</td>\n",
       "      <td>PT</td>\n",
       "      <td>218.112180</td>\n",
       "      <td>Other</td>\n",
       "    </tr>\n",
       "    <tr>\n",
       "      <th>3</th>\n",
       "      <td>110535</td>\n",
       "      <td>Gregory P Suhr</td>\n",
       "      <td>Chief of Police</td>\n",
       "      <td>307450.04</td>\n",
       "      <td>0.00</td>\n",
       "      <td>19266.72</td>\n",
       "      <td>91302.46</td>\n",
       "      <td>326716.76</td>\n",
       "      <td>418019.22</td>\n",
       "      <td>2014</td>\n",
       "      <td>San Francisco</td>\n",
       "      <td>FT</td>\n",
       "      <td>209.009610</td>\n",
       "      <td>Policemen</td>\n",
       "    </tr>\n",
       "    <tr>\n",
       "      <th>4</th>\n",
       "      <td>110536</td>\n",
       "      <td>Joanne M Hayes-White</td>\n",
       "      <td>Chief, Fire Department</td>\n",
       "      <td>302068.00</td>\n",
       "      <td>0.00</td>\n",
       "      <td>24165.44</td>\n",
       "      <td>91201.66</td>\n",
       "      <td>326233.44</td>\n",
       "      <td>417435.10</td>\n",
       "      <td>2014</td>\n",
       "      <td>San Francisco</td>\n",
       "      <td>FT</td>\n",
       "      <td>208.717550</td>\n",
       "      <td>Firemen</td>\n",
       "    </tr>\n",
       "  </tbody>\n",
       "</table>\n",
       "</div>\n",
       "      <button class=\"colab-df-convert\" onclick=\"convertToInteractive('df-af28de19-ac2d-4f6d-943f-8d18daba16e2')\"\n",
       "              title=\"Convert this dataframe to an interactive table.\"\n",
       "              style=\"display:none;\">\n",
       "        \n",
       "  <svg xmlns=\"http://www.w3.org/2000/svg\" height=\"24px\"viewBox=\"0 0 24 24\"\n",
       "       width=\"24px\">\n",
       "    <path d=\"M0 0h24v24H0V0z\" fill=\"none\"/>\n",
       "    <path d=\"M18.56 5.44l.94 2.06.94-2.06 2.06-.94-2.06-.94-.94-2.06-.94 2.06-2.06.94zm-11 1L8.5 8.5l.94-2.06 2.06-.94-2.06-.94L8.5 2.5l-.94 2.06-2.06.94zm10 10l.94 2.06.94-2.06 2.06-.94-2.06-.94-.94-2.06-.94 2.06-2.06.94z\"/><path d=\"M17.41 7.96l-1.37-1.37c-.4-.4-.92-.59-1.43-.59-.52 0-1.04.2-1.43.59L10.3 9.45l-7.72 7.72c-.78.78-.78 2.05 0 2.83L4 21.41c.39.39.9.59 1.41.59.51 0 1.02-.2 1.41-.59l7.78-7.78 2.81-2.81c.8-.78.8-2.07 0-2.86zM5.41 20L4 18.59l7.72-7.72 1.47 1.35L5.41 20z\"/>\n",
       "  </svg>\n",
       "      </button>\n",
       "      \n",
       "  <style>\n",
       "    .colab-df-container {\n",
       "      display:flex;\n",
       "      flex-wrap:wrap;\n",
       "      gap: 12px;\n",
       "    }\n",
       "\n",
       "    .colab-df-convert {\n",
       "      background-color: #E8F0FE;\n",
       "      border: none;\n",
       "      border-radius: 50%;\n",
       "      cursor: pointer;\n",
       "      display: none;\n",
       "      fill: #1967D2;\n",
       "      height: 32px;\n",
       "      padding: 0 0 0 0;\n",
       "      width: 32px;\n",
       "    }\n",
       "\n",
       "    .colab-df-convert:hover {\n",
       "      background-color: #E2EBFA;\n",
       "      box-shadow: 0px 1px 2px rgba(60, 64, 67, 0.3), 0px 1px 3px 1px rgba(60, 64, 67, 0.15);\n",
       "      fill: #174EA6;\n",
       "    }\n",
       "\n",
       "    [theme=dark] .colab-df-convert {\n",
       "      background-color: #3B4455;\n",
       "      fill: #D2E3FC;\n",
       "    }\n",
       "\n",
       "    [theme=dark] .colab-df-convert:hover {\n",
       "      background-color: #434B5C;\n",
       "      box-shadow: 0px 1px 3px 1px rgba(0, 0, 0, 0.15);\n",
       "      filter: drop-shadow(0px 1px 2px rgba(0, 0, 0, 0.3));\n",
       "      fill: #FFFFFF;\n",
       "    }\n",
       "  </style>\n",
       "\n",
       "      <script>\n",
       "        const buttonEl =\n",
       "          document.querySelector('#df-af28de19-ac2d-4f6d-943f-8d18daba16e2 button.colab-df-convert');\n",
       "        buttonEl.style.display =\n",
       "          google.colab.kernel.accessAllowed ? 'block' : 'none';\n",
       "\n",
       "        async function convertToInteractive(key) {\n",
       "          const element = document.querySelector('#df-af28de19-ac2d-4f6d-943f-8d18daba16e2');\n",
       "          const dataTable =\n",
       "            await google.colab.kernel.invokeFunction('convertToInteractive',\n",
       "                                                     [key], {});\n",
       "          if (!dataTable) return;\n",
       "\n",
       "          const docLinkHtml = 'Like what you see? Visit the ' +\n",
       "            '<a target=\"_blank\" href=https://colab.research.google.com/notebooks/data_table.ipynb>data table notebook</a>'\n",
       "            + ' to learn more about interactive tables.';\n",
       "          element.innerHTML = '';\n",
       "          dataTable['output_type'] = 'display_data';\n",
       "          await google.colab.output.renderOutput(dataTable, element);\n",
       "          const docLink = document.createElement('div');\n",
       "          docLink.innerHTML = docLinkHtml;\n",
       "          element.appendChild(docLink);\n",
       "        }\n",
       "      </script>\n",
       "    </div>\n",
       "  </div>\n",
       "  "
      ],
      "text/plain": [
       "       Id          EmployeeName                  JobTitle    BasePay  \\\n",
       "0  110532           David Shinn            Deputy Chief 3  129150.01   \n",
       "1  110533            Amy P Hart         Asst Med Examiner  318835.49   \n",
       "2  110534  William J Coaker Jr.  Chief Investment Officer  257340.00   \n",
       "3  110535        Gregory P Suhr           Chief of Police  307450.04   \n",
       "4  110536  Joanne M Hayes-White    Chief, Fire Department  302068.00   \n",
       "\n",
       "   OvertimePay   OtherPay  Benefits   TotalPay  TotalPayBenefits  Year  \\\n",
       "0         0.00  342802.63  38780.04  471952.64         510732.68  2014   \n",
       "1     10712.95   60563.54  89540.23  390111.98         479652.21  2014   \n",
       "2         0.00   82313.70  96570.66  339653.70         436224.36  2014   \n",
       "3         0.00   19266.72  91302.46  326716.76         418019.22  2014   \n",
       "4         0.00   24165.44  91201.66  326233.44         417435.10  2014   \n",
       "\n",
       "          Agency Status  Hourly_Wage employee_group  \n",
       "0  San Francisco     PT   255.366340          Other  \n",
       "1  San Francisco     FT   239.826105        Medical  \n",
       "2  San Francisco     PT   218.112180          Other  \n",
       "3  San Francisco     FT   209.009610      Policemen  \n",
       "4  San Francisco     FT   208.717550        Firemen  "
      ]
     },
     "execution_count": 39,
     "metadata": {},
     "output_type": "execute_result"
    }
   ],
   "source": []
  },
  {
   "cell_type": "markdown",
   "metadata": {
    "id": "TPCdBgKezSyM"
   },
   "source": [
    "Determine how many \"PT\" and \"FT\" employess have all the employees groups."
   ]
  },
  {
   "cell_type": "code",
   "execution_count": 168,
   "metadata": {},
   "outputs": [
    {
     "data": {
      "text/html": [
       "<div>\n",
       "<style scoped>\n",
       "    .dataframe tbody tr th:only-of-type {\n",
       "        vertical-align: middle;\n",
       "    }\n",
       "\n",
       "    .dataframe tbody tr th {\n",
       "        vertical-align: top;\n",
       "    }\n",
       "\n",
       "    .dataframe thead th {\n",
       "        text-align: right;\n",
       "    }\n",
       "</style>\n",
       "<table border=\"1\" class=\"dataframe\">\n",
       "  <thead>\n",
       "    <tr style=\"text-align: right;\">\n",
       "      <th>Status</th>\n",
       "      <th>FT</th>\n",
       "      <th>PT</th>\n",
       "    </tr>\n",
       "    <tr>\n",
       "      <th>employee_group</th>\n",
       "      <th></th>\n",
       "      <th></th>\n",
       "    </tr>\n",
       "  </thead>\n",
       "  <tbody>\n",
       "    <tr>\n",
       "      <th>Firemen</th>\n",
       "      <td>1333</td>\n",
       "      <td>178</td>\n",
       "    </tr>\n",
       "    <tr>\n",
       "      <th>Lawyer</th>\n",
       "      <td>317</td>\n",
       "      <td>102</td>\n",
       "    </tr>\n",
       "    <tr>\n",
       "      <th>Medical</th>\n",
       "      <td>1028</td>\n",
       "      <td>2889</td>\n",
       "    </tr>\n",
       "    <tr>\n",
       "      <th>Other</th>\n",
       "      <td>18126</td>\n",
       "      <td>12245</td>\n",
       "    </tr>\n",
       "    <tr>\n",
       "      <th>Policemen</th>\n",
       "      <td>1530</td>\n",
       "      <td>371</td>\n",
       "    </tr>\n",
       "  </tbody>\n",
       "</table>\n",
       "</div>"
      ],
      "text/plain": [
       "Status             FT     PT\n",
       "employee_group              \n",
       "Firemen          1333    178\n",
       "Lawyer            317    102\n",
       "Medical          1028   2889\n",
       "Other           18126  12245\n",
       "Policemen        1530    371"
      ]
     },
     "execution_count": 168,
     "metadata": {},
     "output_type": "execute_result"
    }
   ],
   "source": [
    "# Your code here: (Store the output dataframe into a new variable)\n",
    "data_crosstab = pd.crosstab(data10['employee_group'], data10['Status'], margins = False)\n",
    "data_crosstab"
   ]
  },
  {
   "cell_type": "code",
   "execution_count": 40,
   "metadata": {
    "colab": {
     "base_uri": "https://localhost:8080/",
     "height": 237
    },
    "id": "GB8tp2rDzSyM",
    "outputId": "b5a3ca3c-2300-4d37-ac9f-ca4b1cf80ceb"
   },
   "outputs": [
    {
     "data": {
      "text/html": [
       "\n",
       "  <div id=\"df-49b274a2-8683-4265-9418-088255e83609\">\n",
       "    <div class=\"colab-df-container\">\n",
       "      <div>\n",
       "<style scoped>\n",
       "    .dataframe tbody tr th:only-of-type {\n",
       "        vertical-align: middle;\n",
       "    }\n",
       "\n",
       "    .dataframe tbody tr th {\n",
       "        vertical-align: top;\n",
       "    }\n",
       "\n",
       "    .dataframe thead th {\n",
       "        text-align: right;\n",
       "    }\n",
       "</style>\n",
       "<table border=\"1\" class=\"dataframe\">\n",
       "  <thead>\n",
       "    <tr style=\"text-align: right;\">\n",
       "      <th>Status</th>\n",
       "      <th>FT</th>\n",
       "      <th>PT</th>\n",
       "    </tr>\n",
       "    <tr>\n",
       "      <th>employee_group</th>\n",
       "      <th></th>\n",
       "      <th></th>\n",
       "    </tr>\n",
       "  </thead>\n",
       "  <tbody>\n",
       "    <tr>\n",
       "      <th>Firemen</th>\n",
       "      <td>1333</td>\n",
       "      <td>178</td>\n",
       "    </tr>\n",
       "    <tr>\n",
       "      <th>Lawyers</th>\n",
       "      <td>317</td>\n",
       "      <td>102</td>\n",
       "    </tr>\n",
       "    <tr>\n",
       "      <th>Medical</th>\n",
       "      <td>1028</td>\n",
       "      <td>2889</td>\n",
       "    </tr>\n",
       "    <tr>\n",
       "      <th>Other</th>\n",
       "      <td>18126</td>\n",
       "      <td>12245</td>\n",
       "    </tr>\n",
       "    <tr>\n",
       "      <th>Policemen</th>\n",
       "      <td>1530</td>\n",
       "      <td>371</td>\n",
       "    </tr>\n",
       "  </tbody>\n",
       "</table>\n",
       "</div>\n",
       "      <button class=\"colab-df-convert\" onclick=\"convertToInteractive('df-49b274a2-8683-4265-9418-088255e83609')\"\n",
       "              title=\"Convert this dataframe to an interactive table.\"\n",
       "              style=\"display:none;\">\n",
       "        \n",
       "  <svg xmlns=\"http://www.w3.org/2000/svg\" height=\"24px\"viewBox=\"0 0 24 24\"\n",
       "       width=\"24px\">\n",
       "    <path d=\"M0 0h24v24H0V0z\" fill=\"none\"/>\n",
       "    <path d=\"M18.56 5.44l.94 2.06.94-2.06 2.06-.94-2.06-.94-.94-2.06-.94 2.06-2.06.94zm-11 1L8.5 8.5l.94-2.06 2.06-.94-2.06-.94L8.5 2.5l-.94 2.06-2.06.94zm10 10l.94 2.06.94-2.06 2.06-.94-2.06-.94-.94-2.06-.94 2.06-2.06.94z\"/><path d=\"M17.41 7.96l-1.37-1.37c-.4-.4-.92-.59-1.43-.59-.52 0-1.04.2-1.43.59L10.3 9.45l-7.72 7.72c-.78.78-.78 2.05 0 2.83L4 21.41c.39.39.9.59 1.41.59.51 0 1.02-.2 1.41-.59l7.78-7.78 2.81-2.81c.8-.78.8-2.07 0-2.86zM5.41 20L4 18.59l7.72-7.72 1.47 1.35L5.41 20z\"/>\n",
       "  </svg>\n",
       "      </button>\n",
       "      \n",
       "  <style>\n",
       "    .colab-df-container {\n",
       "      display:flex;\n",
       "      flex-wrap:wrap;\n",
       "      gap: 12px;\n",
       "    }\n",
       "\n",
       "    .colab-df-convert {\n",
       "      background-color: #E8F0FE;\n",
       "      border: none;\n",
       "      border-radius: 50%;\n",
       "      cursor: pointer;\n",
       "      display: none;\n",
       "      fill: #1967D2;\n",
       "      height: 32px;\n",
       "      padding: 0 0 0 0;\n",
       "      width: 32px;\n",
       "    }\n",
       "\n",
       "    .colab-df-convert:hover {\n",
       "      background-color: #E2EBFA;\n",
       "      box-shadow: 0px 1px 2px rgba(60, 64, 67, 0.3), 0px 1px 3px 1px rgba(60, 64, 67, 0.15);\n",
       "      fill: #174EA6;\n",
       "    }\n",
       "\n",
       "    [theme=dark] .colab-df-convert {\n",
       "      background-color: #3B4455;\n",
       "      fill: #D2E3FC;\n",
       "    }\n",
       "\n",
       "    [theme=dark] .colab-df-convert:hover {\n",
       "      background-color: #434B5C;\n",
       "      box-shadow: 0px 1px 3px 1px rgba(0, 0, 0, 0.15);\n",
       "      filter: drop-shadow(0px 1px 2px rgba(0, 0, 0, 0.3));\n",
       "      fill: #FFFFFF;\n",
       "    }\n",
       "  </style>\n",
       "\n",
       "      <script>\n",
       "        const buttonEl =\n",
       "          document.querySelector('#df-49b274a2-8683-4265-9418-088255e83609 button.colab-df-convert');\n",
       "        buttonEl.style.display =\n",
       "          google.colab.kernel.accessAllowed ? 'block' : 'none';\n",
       "\n",
       "        async function convertToInteractive(key) {\n",
       "          const element = document.querySelector('#df-49b274a2-8683-4265-9418-088255e83609');\n",
       "          const dataTable =\n",
       "            await google.colab.kernel.invokeFunction('convertToInteractive',\n",
       "                                                     [key], {});\n",
       "          if (!dataTable) return;\n",
       "\n",
       "          const docLinkHtml = 'Like what you see? Visit the ' +\n",
       "            '<a target=\"_blank\" href=https://colab.research.google.com/notebooks/data_table.ipynb>data table notebook</a>'\n",
       "            + ' to learn more about interactive tables.';\n",
       "          element.innerHTML = '';\n",
       "          dataTable['output_type'] = 'display_data';\n",
       "          await google.colab.output.renderOutput(dataTable, element);\n",
       "          const docLink = document.createElement('div');\n",
       "          docLink.innerHTML = docLinkHtml;\n",
       "          element.appendChild(docLink);\n",
       "        }\n",
       "      </script>\n",
       "    </div>\n",
       "  </div>\n",
       "  "
      ],
      "text/plain": [
       "Status             FT     PT\n",
       "employee_group              \n",
       "Firemen          1333    178\n",
       "Lawyers           317    102\n",
       "Medical          1028   2889\n",
       "Other           18126  12245\n",
       "Policemen        1530    371"
      ]
     },
     "execution_count": 40,
     "metadata": {},
     "output_type": "execute_result"
    }
   ],
   "source": []
  },
  {
   "cell_type": "markdown",
   "metadata": {
    "id": "CJb-kx-7zSyM"
   },
   "source": [
    "Now try compute the expected frequencies doing the calculations with the individual probabilities. Remember that the Chi2 test assumes that both variables (employee_group and FT/PT) are not related (therefore they are independent). Therefore, to compute the expected frequencies you need to compute the probability of each cell and multiply it by the number of observations. ie:\n",
    "\n",
    "$$\\nu(x,y) = p(x,y) * N = p(x) * p(y) * N$$\n",
    "\n",
    "bear in mind that in general: $p(x,y)\\neq p(x)*p(y)$; the equality will only be true if x and y are independent. However, the null hypotheses says that **x and y are independent.** but that's what we're assuming with the null hypotheses.\n",
    "\n",
    "where \"x\" is the \"employee_group\" and \"y\" the (FT/PT). "
   ]
  },
  {
   "cell_type": "code",
   "execution_count": 167,
   "metadata": {},
   "outputs": [],
   "source": [
    "# Create an empty dataframe named \"frequencies\" to store the data.\n",
    "# Your code here:\n",
    "frequencies = pd.DataFrame"
   ]
  },
  {
   "cell_type": "code",
   "execution_count": 41,
   "metadata": {
    "id": "Y-fJvVuqzSyN"
   },
   "outputs": [],
   "source": []
  },
  {
   "cell_type": "code",
   "execution_count": 189,
   "metadata": {},
   "outputs": [
    {
     "data": {
      "text/plain": [
       "885.2979878800596"
      ]
     },
     "execution_count": 189,
     "metadata": {},
     "output_type": "execute_result"
    }
   ],
   "source": [
    "# Your code here: Compute Expected frequency of being \"Firemen\" and \"FT\". \n",
    "#Store the solution in a variable named \"firemen_ft\"\n",
    "N = len(data10)\n",
    "firemen_ft = data_crosstab.loc['Firemen',:].sum()/N*data_crosstab.loc[:,'FT'].sum()/N*N\n",
    "firemen_ft"
   ]
  },
  {
   "cell_type": "code",
   "execution_count": null,
   "metadata": {},
   "outputs": [],
   "source": []
  },
  {
   "cell_type": "code",
   "execution_count": 42,
   "metadata": {
    "colab": {
     "base_uri": "https://localhost:8080/"
    },
    "id": "1ld-NVuczSyN",
    "outputId": "8f4e0114-77c2-446b-f02f-bc5440b3fb9a"
   },
   "outputs": [
    {
     "data": {
      "text/plain": [
       "885.2979878800596"
      ]
     },
     "execution_count": 42,
     "metadata": {},
     "output_type": "execute_result"
    }
   ],
   "source": []
  },
  {
   "cell_type": "code",
   "execution_count": 190,
   "metadata": {},
   "outputs": [
    {
     "data": {
      "text/plain": [
       "625.70201211994"
      ]
     },
     "execution_count": 190,
     "metadata": {},
     "output_type": "execute_result"
    }
   ],
   "source": [
    "# Your code here: Compute Expected frequency of being \"Firemen\" and \"PT\". \n",
    "#Store the solution in a variable named \"firemen_pt\"\n",
    "N = len(data10)\n",
    "firemen_pt = data_crosstab.loc['Firemen',:].sum()/N*data_crosstab.loc[:,'PT'].sum()/N*N\n",
    "firemen_pt"
   ]
  },
  {
   "cell_type": "code",
   "execution_count": 43,
   "metadata": {
    "colab": {
     "base_uri": "https://localhost:8080/"
    },
    "id": "RUp3VAXIzSyN",
    "outputId": "f20f5b9b-62fe-48b9-9638-a609464a0a06"
   },
   "outputs": [
    {
     "data": {
      "text/plain": [
       "625.7020121199403"
      ]
     },
     "execution_count": 43,
     "metadata": {},
     "output_type": "execute_result"
    }
   ],
   "source": []
  },
  {
   "cell_type": "code",
   "execution_count": 191,
   "metadata": {},
   "outputs": [
    {
     "data": {
      "text/plain": [
       "245.49295626852748"
      ]
     },
     "execution_count": 191,
     "metadata": {},
     "output_type": "execute_result"
    }
   ],
   "source": [
    "# Your code here: Compute Expected frequency of being \"Lawyers\" and \"FT\". \n",
    "#Store the solution in a variable named \"lawyers_ft\"\n",
    "N = len(data10)\n",
    "lawyers_ft = data_crosstab.iloc[1,:].sum()/N*data_crosstab.loc[:,'FT'].sum()/N*N\n",
    "lawyers_ft\n"
   ]
  },
  {
   "cell_type": "code",
   "execution_count": 44,
   "metadata": {
    "colab": {
     "base_uri": "https://localhost:8080/"
    },
    "id": "5zTnWHxdzSyN",
    "outputId": "fa3db9aa-9fbb-482e-f35a-13fa9e605405"
   },
   "outputs": [
    {
     "data": {
      "text/plain": [
       "245.49295626852748"
      ]
     },
     "execution_count": 44,
     "metadata": {},
     "output_type": "execute_result"
    }
   ],
   "source": []
  },
  {
   "cell_type": "code",
   "execution_count": 192,
   "metadata": {},
   "outputs": [
    {
     "data": {
      "text/plain": [
       "173.5070437314725"
      ]
     },
     "execution_count": 192,
     "metadata": {},
     "output_type": "execute_result"
    }
   ],
   "source": [
    "# Your code here: Compute Expected frequency of being \"Lawyers\" and \"PT\". \n",
    "#Store the solution in a variable named \"lawyers_pt\"\n",
    "N = len(data10)\n",
    "lawyers_pt = data_crosstab.iloc[1,:].sum()/N*data_crosstab.loc[:,'PT'].sum()/N*N\n",
    "lawyers_pt"
   ]
  },
  {
   "cell_type": "code",
   "execution_count": 45,
   "metadata": {
    "colab": {
     "base_uri": "https://localhost:8080/"
    },
    "id": "f_E2hWy7zSyN",
    "outputId": "0589a145-35fb-4441-c5e8-32bce904e01a"
   },
   "outputs": [
    {
     "data": {
      "text/plain": [
       "173.5070437314725"
      ]
     },
     "execution_count": 45,
     "metadata": {},
     "output_type": "execute_result"
    }
   ],
   "source": []
  },
  {
   "cell_type": "code",
   "execution_count": 193,
   "metadata": {},
   "outputs": [
    {
     "data": {
      "text/plain": [
       "2294.9783047823917"
      ]
     },
     "execution_count": 193,
     "metadata": {},
     "output_type": "execute_result"
    }
   ],
   "source": [
    "# Your code here: Compute Expected frequency of being \"Medical\" and \"FT\". \n",
    "#Store the solution in a variable named \"medical_ft\"\n",
    "N = len(data10)\n",
    "medical_ft = data_crosstab.iloc[2,:].sum()/N*data_crosstab.iloc[:,0].sum()/N*N\n",
    "medical_ft"
   ]
  },
  {
   "cell_type": "code",
   "execution_count": 46,
   "metadata": {
    "colab": {
     "base_uri": "https://localhost:8080/"
    },
    "id": "TJSVxXMlzSyN",
    "outputId": "4731e0ca-028d-4582-fc75-772b2e3644b2"
   },
   "outputs": [
    {
     "data": {
      "text/plain": [
       "2294.9783047823917"
      ]
     },
     "execution_count": 46,
     "metadata": {},
     "output_type": "execute_result"
    }
   ],
   "source": []
  },
  {
   "cell_type": "code",
   "execution_count": 194,
   "metadata": {},
   "outputs": [
    {
     "data": {
      "text/plain": [
       "1622.0216952176079"
      ]
     },
     "execution_count": 194,
     "metadata": {},
     "output_type": "execute_result"
    }
   ],
   "source": [
    "# Your code here: Compute Expected frequency of being \"Medical\" and \"PT\".\n",
    "#Store the solution in a variable named \"medical_pt\"\n",
    "N = len(data10)\n",
    "medical_pt = data_crosstab.iloc[2,:].sum()/N*data_crosstab.iloc[:,1].sum()/N*N\n",
    "medical_pt"
   ]
  },
  {
   "cell_type": "code",
   "execution_count": 47,
   "metadata": {
    "colab": {
     "base_uri": "https://localhost:8080/"
    },
    "id": "6JDp8KxyzSyO",
    "outputId": "7cf6a30a-5a80-4c47-f38b-c51e98025b48"
   },
   "outputs": [
    {
     "data": {
      "text/plain": [
       "1622.021695217608"
      ]
     },
     "execution_count": 47,
     "metadata": {},
     "output_type": "execute_result"
    }
   ],
   "source": []
  },
  {
   "cell_type": "code",
   "execution_count": 195,
   "metadata": {},
   "outputs": [
    {
     "data": {
      "text/plain": [
       "17794.430966184842"
      ]
     },
     "execution_count": 195,
     "metadata": {},
     "output_type": "execute_result"
    }
   ],
   "source": [
    "# Your code here: Compute Expected frequency of being \"Other\" and \"FT\". \n",
    "#Store the solution in a variable named \"other_ft\"\n",
    "N = len(data10)\n",
    "other_ft = data_crosstab.iloc[3,:].sum()/N*data_crosstab.iloc[:,0].sum()/N*N\n",
    "other_ft"
   ]
  },
  {
   "cell_type": "code",
   "execution_count": 48,
   "metadata": {
    "colab": {
     "base_uri": "https://localhost:8080/"
    },
    "id": "Faj2vgrazSyO",
    "outputId": "bcc9b61f-abf7-44b4-9cc4-57c34f4559b3"
   },
   "outputs": [
    {
     "data": {
      "text/plain": [
       "17794.430966184842"
      ]
     },
     "execution_count": 48,
     "metadata": {},
     "output_type": "execute_result"
    }
   ],
   "source": []
  },
  {
   "cell_type": "code",
   "execution_count": 196,
   "metadata": {},
   "outputs": [
    {
     "data": {
      "text/plain": [
       "12576.569033815158"
      ]
     },
     "execution_count": 196,
     "metadata": {},
     "output_type": "execute_result"
    }
   ],
   "source": [
    "# Your code here: Compute Expected frequency of being \"Other\" and \"PT\". \n",
    "#Store the solution in a variable named \"other_pt\"\n",
    "\n",
    "N = len(data10)\n",
    "other_pt = data_crosstab.iloc[3,:].sum()/N*data_crosstab.iloc[:,1].sum()/N*N\n",
    "other_pt"
   ]
  },
  {
   "cell_type": "code",
   "execution_count": 49,
   "metadata": {
    "colab": {
     "base_uri": "https://localhost:8080/"
    },
    "id": "kmAMpPFyzSyO",
    "outputId": "0de568d8-d0db-471f-bc60-2ddc65cb5e54"
   },
   "outputs": [
    {
     "data": {
      "text/plain": [
       "12576.569033815158"
      ]
     },
     "execution_count": 49,
     "metadata": {},
     "output_type": "execute_result"
    }
   ],
   "source": []
  },
  {
   "cell_type": "code",
   "execution_count": 197,
   "metadata": {},
   "outputs": [
    {
     "data": {
      "text/plain": [
       "1113.7997848841785"
      ]
     },
     "execution_count": 197,
     "metadata": {},
     "output_type": "execute_result"
    }
   ],
   "source": [
    "# Your code here: Compute Expected frequency of being \"Policement\" and \"FT\". \n",
    "#Store the solution in a variable named \"policemen_ft\"\n",
    "N = len(data10)\n",
    "policemen_ft = data_crosstab.iloc[4,:].sum()/N*data_crosstab.iloc[:,0].sum()/N*N\n",
    "policemen_ft"
   ]
  },
  {
   "cell_type": "code",
   "execution_count": 50,
   "metadata": {
    "colab": {
     "base_uri": "https://localhost:8080/"
    },
    "id": "yUyhx_IezSyO",
    "outputId": "9f9bfaae-d402-4e04-8863-e3ff2bf63ac9"
   },
   "outputs": [
    {
     "data": {
      "text/plain": [
       "1113.7997848841785"
      ]
     },
     "execution_count": 50,
     "metadata": {},
     "output_type": "execute_result"
    }
   ],
   "source": []
  },
  {
   "cell_type": "code",
   "execution_count": 198,
   "metadata": {},
   "outputs": [
    {
     "data": {
      "text/plain": [
       "787.2002151158215"
      ]
     },
     "execution_count": 198,
     "metadata": {},
     "output_type": "execute_result"
    }
   ],
   "source": [
    "# Your code here: Compute Expected frequency of being \"Policement\" and \"PT\". \n",
    "#Store the solution in a variable named \"policemen_pt\"\n",
    "N = len(data10)\n",
    "policemen_pt = data_crosstab.iloc[4,:].sum()/N*data_crosstab.iloc[:,1].sum()/N*N\n",
    "policemen_pt"
   ]
  },
  {
   "cell_type": "code",
   "execution_count": 51,
   "metadata": {
    "colab": {
     "base_uri": "https://localhost:8080/"
    },
    "id": "xU9CcKJSzSyO",
    "outputId": "c19fc385-8048-4f47-9397-46d416f1ffdf"
   },
   "outputs": [
    {
     "data": {
      "text/plain": [
       "787.2002151158215"
      ]
     },
     "execution_count": 51,
     "metadata": {},
     "output_type": "execute_result"
    }
   ],
   "source": []
  },
  {
   "cell_type": "markdown",
   "metadata": {
    "id": "XRuFEP-WzSyO"
   },
   "source": [
    "* Store all the expected frequencies of \"FT\" employees in a list \n",
    "* Store all the \"PT\" employees into another list\n",
    "* Create a dictionary with \"FT\" and \"PT\" as keys and as the values use the previous lists\n",
    "* Create a dataframe with this dictionary using pd.DataFrame()"
   ]
  },
  {
   "cell_type": "code",
   "execution_count": 200,
   "metadata": {},
   "outputs": [
    {
     "data": {
      "text/html": [
       "<div>\n",
       "<style scoped>\n",
       "    .dataframe tbody tr th:only-of-type {\n",
       "        vertical-align: middle;\n",
       "    }\n",
       "\n",
       "    .dataframe tbody tr th {\n",
       "        vertical-align: top;\n",
       "    }\n",
       "\n",
       "    .dataframe thead th {\n",
       "        text-align: right;\n",
       "    }\n",
       "</style>\n",
       "<table border=\"1\" class=\"dataframe\">\n",
       "  <thead>\n",
       "    <tr style=\"text-align: right;\">\n",
       "      <th></th>\n",
       "      <th>FT</th>\n",
       "      <th>PT</th>\n",
       "    </tr>\n",
       "  </thead>\n",
       "  <tbody>\n",
       "    <tr>\n",
       "      <th>0</th>\n",
       "      <td>885.297988</td>\n",
       "      <td>625.702012</td>\n",
       "    </tr>\n",
       "    <tr>\n",
       "      <th>1</th>\n",
       "      <td>245.492956</td>\n",
       "      <td>173.507044</td>\n",
       "    </tr>\n",
       "    <tr>\n",
       "      <th>2</th>\n",
       "      <td>2294.978305</td>\n",
       "      <td>1622.021695</td>\n",
       "    </tr>\n",
       "    <tr>\n",
       "      <th>3</th>\n",
       "      <td>17794.430966</td>\n",
       "      <td>12576.569034</td>\n",
       "    </tr>\n",
       "    <tr>\n",
       "      <th>4</th>\n",
       "      <td>1113.799785</td>\n",
       "      <td>787.200215</td>\n",
       "    </tr>\n",
       "  </tbody>\n",
       "</table>\n",
       "</div>"
      ],
      "text/plain": [
       "             FT            PT\n",
       "0    885.297988    625.702012\n",
       "1    245.492956    173.507044\n",
       "2   2294.978305   1622.021695\n",
       "3  17794.430966  12576.569034\n",
       "4   1113.799785    787.200215"
      ]
     },
     "execution_count": 200,
     "metadata": {},
     "output_type": "execute_result"
    }
   ],
   "source": [
    "# Your code here:\n",
    "f_list = {'FT':[firemen_ft, lawyers_ft, medical_ft, other_ft, policemen_ft], \n",
    "          'PT':[firemen_pt, lawyers_pt, medical_pt, other_pt, policemen_pt]}\n",
    "\n",
    "frequencies = frequencies(f_list)\n",
    "frequencies        "
   ]
  },
  {
   "cell_type": "code",
   "execution_count": null,
   "metadata": {},
   "outputs": [],
   "source": []
  },
  {
   "cell_type": "code",
   "execution_count": 52,
   "metadata": {
    "colab": {
     "base_uri": "https://localhost:8080/",
     "height": 206
    },
    "id": "g6Otm4XUzSyO",
    "outputId": "7bbf7a53-e947-4137-8f03-35fb3b9cc3ee"
   },
   "outputs": [
    {
     "data": {
      "text/html": [
       "\n",
       "  <div id=\"df-e0370bfd-0663-471d-986a-458cd677dcf5\">\n",
       "    <div class=\"colab-df-container\">\n",
       "      <div>\n",
       "<style scoped>\n",
       "    .dataframe tbody tr th:only-of-type {\n",
       "        vertical-align: middle;\n",
       "    }\n",
       "\n",
       "    .dataframe tbody tr th {\n",
       "        vertical-align: top;\n",
       "    }\n",
       "\n",
       "    .dataframe thead th {\n",
       "        text-align: right;\n",
       "    }\n",
       "</style>\n",
       "<table border=\"1\" class=\"dataframe\">\n",
       "  <thead>\n",
       "    <tr style=\"text-align: right;\">\n",
       "      <th></th>\n",
       "      <th>FT</th>\n",
       "      <th>PT</th>\n",
       "    </tr>\n",
       "  </thead>\n",
       "  <tbody>\n",
       "    <tr>\n",
       "      <th>0</th>\n",
       "      <td>885.297988</td>\n",
       "      <td>625.702012</td>\n",
       "    </tr>\n",
       "    <tr>\n",
       "      <th>1</th>\n",
       "      <td>245.492956</td>\n",
       "      <td>173.507044</td>\n",
       "    </tr>\n",
       "    <tr>\n",
       "      <th>2</th>\n",
       "      <td>2294.978305</td>\n",
       "      <td>1622.021695</td>\n",
       "    </tr>\n",
       "    <tr>\n",
       "      <th>3</th>\n",
       "      <td>17794.430966</td>\n",
       "      <td>12576.569034</td>\n",
       "    </tr>\n",
       "    <tr>\n",
       "      <th>4</th>\n",
       "      <td>1113.799785</td>\n",
       "      <td>787.200215</td>\n",
       "    </tr>\n",
       "  </tbody>\n",
       "</table>\n",
       "</div>\n",
       "      <button class=\"colab-df-convert\" onclick=\"convertToInteractive('df-e0370bfd-0663-471d-986a-458cd677dcf5')\"\n",
       "              title=\"Convert this dataframe to an interactive table.\"\n",
       "              style=\"display:none;\">\n",
       "        \n",
       "  <svg xmlns=\"http://www.w3.org/2000/svg\" height=\"24px\"viewBox=\"0 0 24 24\"\n",
       "       width=\"24px\">\n",
       "    <path d=\"M0 0h24v24H0V0z\" fill=\"none\"/>\n",
       "    <path d=\"M18.56 5.44l.94 2.06.94-2.06 2.06-.94-2.06-.94-.94-2.06-.94 2.06-2.06.94zm-11 1L8.5 8.5l.94-2.06 2.06-.94-2.06-.94L8.5 2.5l-.94 2.06-2.06.94zm10 10l.94 2.06.94-2.06 2.06-.94-2.06-.94-.94-2.06-.94 2.06-2.06.94z\"/><path d=\"M17.41 7.96l-1.37-1.37c-.4-.4-.92-.59-1.43-.59-.52 0-1.04.2-1.43.59L10.3 9.45l-7.72 7.72c-.78.78-.78 2.05 0 2.83L4 21.41c.39.39.9.59 1.41.59.51 0 1.02-.2 1.41-.59l7.78-7.78 2.81-2.81c.8-.78.8-2.07 0-2.86zM5.41 20L4 18.59l7.72-7.72 1.47 1.35L5.41 20z\"/>\n",
       "  </svg>\n",
       "      </button>\n",
       "      \n",
       "  <style>\n",
       "    .colab-df-container {\n",
       "      display:flex;\n",
       "      flex-wrap:wrap;\n",
       "      gap: 12px;\n",
       "    }\n",
       "\n",
       "    .colab-df-convert {\n",
       "      background-color: #E8F0FE;\n",
       "      border: none;\n",
       "      border-radius: 50%;\n",
       "      cursor: pointer;\n",
       "      display: none;\n",
       "      fill: #1967D2;\n",
       "      height: 32px;\n",
       "      padding: 0 0 0 0;\n",
       "      width: 32px;\n",
       "    }\n",
       "\n",
       "    .colab-df-convert:hover {\n",
       "      background-color: #E2EBFA;\n",
       "      box-shadow: 0px 1px 2px rgba(60, 64, 67, 0.3), 0px 1px 3px 1px rgba(60, 64, 67, 0.15);\n",
       "      fill: #174EA6;\n",
       "    }\n",
       "\n",
       "    [theme=dark] .colab-df-convert {\n",
       "      background-color: #3B4455;\n",
       "      fill: #D2E3FC;\n",
       "    }\n",
       "\n",
       "    [theme=dark] .colab-df-convert:hover {\n",
       "      background-color: #434B5C;\n",
       "      box-shadow: 0px 1px 3px 1px rgba(0, 0, 0, 0.15);\n",
       "      filter: drop-shadow(0px 1px 2px rgba(0, 0, 0, 0.3));\n",
       "      fill: #FFFFFF;\n",
       "    }\n",
       "  </style>\n",
       "\n",
       "      <script>\n",
       "        const buttonEl =\n",
       "          document.querySelector('#df-e0370bfd-0663-471d-986a-458cd677dcf5 button.colab-df-convert');\n",
       "        buttonEl.style.display =\n",
       "          google.colab.kernel.accessAllowed ? 'block' : 'none';\n",
       "\n",
       "        async function convertToInteractive(key) {\n",
       "          const element = document.querySelector('#df-e0370bfd-0663-471d-986a-458cd677dcf5');\n",
       "          const dataTable =\n",
       "            await google.colab.kernel.invokeFunction('convertToInteractive',\n",
       "                                                     [key], {});\n",
       "          if (!dataTable) return;\n",
       "\n",
       "          const docLinkHtml = 'Like what you see? Visit the ' +\n",
       "            '<a target=\"_blank\" href=https://colab.research.google.com/notebooks/data_table.ipynb>data table notebook</a>'\n",
       "            + ' to learn more about interactive tables.';\n",
       "          element.innerHTML = '';\n",
       "          dataTable['output_type'] = 'display_data';\n",
       "          await google.colab.output.renderOutput(dataTable, element);\n",
       "          const docLink = document.createElement('div');\n",
       "          docLink.innerHTML = docLinkHtml;\n",
       "          element.appendChild(docLink);\n",
       "        }\n",
       "      </script>\n",
       "    </div>\n",
       "  </div>\n",
       "  "
      ],
      "text/plain": [
       "             FT            PT\n",
       "0    885.297988    625.702012\n",
       "1    245.492956    173.507044\n",
       "2   2294.978305   1622.021695\n",
       "3  17794.430966  12576.569034\n",
       "4   1113.799785    787.200215"
      ]
     },
     "execution_count": 52,
     "metadata": {},
     "output_type": "execute_result"
    }
   ],
   "source": []
  },
  {
   "cell_type": "markdown",
   "metadata": {
    "id": "serVGf6HzSyP"
   },
   "source": [
    "Now use the \"st.chi2_contingency()\" from scipy.stats [documentation here](https://docs.scipy.org/doc/scipy/reference/generated/scipy.stats.chi2_contingency.html) to conduct a Chi2 test to determine if the diferences between employee groups are statistically significant using a 95% confidence level. Hint: fill the function with a dataframe of actual frequencies."
   ]
  },
  {
   "cell_type": "code",
   "execution_count": 201,
   "metadata": {},
   "outputs": [
    {
     "data": {
      "text/plain": [
       "(2676.642333711905,\n",
       " 0.0,\n",
       " 4,\n",
       " array([[  885.29798788,   625.70201212],\n",
       "        [  245.49295627,   173.50704373],\n",
       "        [ 2294.97830478,  1622.02169522],\n",
       "        [17794.43096618, 12576.56903382],\n",
       "        [ 1113.79978488,   787.20021512]]))"
      ]
     },
     "execution_count": 201,
     "metadata": {},
     "output_type": "execute_result"
    }
   ],
   "source": [
    "# Your code here: (use the st.chi2_contingency() function from scipy.stats to compute:\n",
    "# The Chi2 value\n",
    "# The p-valueYea we \n",
    "# The expected frequencies.\n",
    "# Ho: there is no relationship\n",
    "# Ha: there is relationship differences\n",
    "# p_value = P(table | Ho) = P(table | no relationship) = 1.51e-6 < 0.05\n",
    "st.chi2_contingency(data_crosstab)\n",
    "\n"
   ]
  },
  {
   "cell_type": "code",
   "execution_count": 53,
   "metadata": {
    "colab": {
     "base_uri": "https://localhost:8080/"
    },
    "id": "xJ4eZt7UzSyP",
    "outputId": "8c3e8264-fa84-4046-b582-09283ac78611"
   },
   "outputs": [
    {
     "data": {
      "text/plain": [
       "(2676.642333711905, 0.0, 4, array([[  885.29798788,   625.70201212],\n",
       "        [  245.49295627,   173.50704373],\n",
       "        [ 2294.97830478,  1622.02169522],\n",
       "        [17794.43096618, 12576.56903382],\n",
       "        [ 1113.79978488,   787.20021512]]))"
      ]
     },
     "execution_count": 53,
     "metadata": {},
     "output_type": "execute_result"
    }
   ],
   "source": []
  },
  {
   "cell_type": "markdown",
   "metadata": {
    "id": "HAlxWZjOzSyP"
   },
   "source": [
    "Check if your expected frequencies aggree with the ones obtained with the st.chi2_contingency() function"
   ]
  },
  {
   "cell_type": "code",
   "execution_count": 54,
   "metadata": {
    "id": "AbQbrku9zSyP"
   },
   "outputs": [],
   "source": []
  }
 ],
 "metadata": {
  "colab": {
   "name": "main_solutions.ipynb",
   "provenance": [],
   "toc_visible": true
  },
  "kernelspec": {
   "display_name": "Python 3 (ipykernel)",
   "language": "python",
   "name": "python3"
  },
  "language_info": {
   "codemirror_mode": {
    "name": "ipython",
    "version": 3
   },
   "file_extension": ".py",
   "mimetype": "text/x-python",
   "name": "python",
   "nbconvert_exporter": "python",
   "pygments_lexer": "ipython3",
   "version": "3.9.12"
  }
 },
 "nbformat": 4,
 "nbformat_minor": 1
}
